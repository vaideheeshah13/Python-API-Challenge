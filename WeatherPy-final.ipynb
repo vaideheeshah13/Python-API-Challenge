{
 "cells": [
  {
   "cell_type": "markdown",
   "metadata": {},
   "source": [
    "# WeatherPy\n",
    "----\n",
    "\n",
    "#### Note\n",
    "* Instructions have been included for each segment. You do not have to follow them exactly, but they are included to help you think through the steps."
   ]
  },
  {
   "cell_type": "code",
   "execution_count": 1,
   "metadata": {
    "scrolled": true
   },
   "outputs": [],
   "source": [
    "# Dependencies and Setup\n",
    "import matplotlib.pyplot as plt\n",
    "import pandas as pd\n",
    "import numpy as np\n",
    "import requests\n",
    "import time\n",
    "from scipy.stats import linregress\n",
    "import json\n",
    "\n",
    "# Import API key\n",
    "from api_keys import weather_api_key\n",
    "\n",
    "# Incorporated citipy to determine city based on latitude and longitude\n",
    "from citipy import citipy\n",
    "\n",
    "# Output File (CSV)\n",
    "output_data_file = \"/Users/Vaidehee/Desktop/nu-chi-data-pt-02-2021-u-c-master 3/02-Homework/06-Python-APIs/Instructions/output_data/cities.csv\"\n",
    "\n",
    "# Range of latitudes and longitudes\n",
    "lat_range = (-90, 90)\n",
    "lng_range = (-180, 180)"
   ]
  },
  {
   "cell_type": "markdown",
   "metadata": {},
   "source": [
    "## Generate Cities List"
   ]
  },
  {
   "cell_type": "code",
   "execution_count": 2,
   "metadata": {},
   "outputs": [
    {
     "data": {
      "text/plain": [
       "625"
      ]
     },
     "execution_count": 2,
     "metadata": {},
     "output_type": "execute_result"
    }
   ],
   "source": [
    "# List for holding lat_lngs and cities\n",
    "lat_lngs = []\n",
    "cities = []\n",
    "\n",
    "# Create a set of random lat and lng combinations\n",
    "lats = np.random.uniform(lat_range[0], lat_range[1], size=1500)\n",
    "lngs = np.random.uniform(lng_range[0], lng_range[1], size=1500)\n",
    "lat_lngs = zip(lats, lngs)\n",
    "\n",
    "# Identify nearest city for each lat, lng combination\n",
    "for lat_lng in lat_lngs:\n",
    "    city = citipy.nearest_city(lat_lng[0], lat_lng[1]).city_name\n",
    "    \n",
    "    # If the city is unique, then add it to a our cities list\n",
    "    if city not in cities:\n",
    "        cities.append(city)\n",
    "\n",
    "# Print the city count to confirm sufficient count\n",
    "len(cities)"
   ]
  },
  {
   "cell_type": "markdown",
   "metadata": {},
   "source": [
    "### Perform API Calls\n",
    "* Perform a weather check on each city using a series of successive API calls.\n",
    "* Include a print log of each city as it'sbeing processed (with the city number and city name).\n"
   ]
  },
  {
   "cell_type": "code",
   "execution_count": 3,
   "metadata": {},
   "outputs": [
    {
     "name": "stdout",
     "output_type": "stream",
     "text": [
      "Beginning Data Retrieval\n",
      "--------------------------------------------\n",
      "Processing Record 1 of Set 1 | avarua\n",
      "Processing Record 2 of Set 1 | kudahuvadhoo\n",
      "Processing Record 3 of Set 1 | yellowknife\n",
      "Processing Record 4 of Set 1 | hithadhoo\n",
      "Processing Record 5 of Set 1 | kazalinsk\n",
      "City not found. Skipping...\n",
      "Processing Record 6 of Set 1 | miri\n",
      "Processing Record 7 of Set 1 | bengkulu\n",
      "Processing Record 8 of Set 1 | ossora\n",
      "Processing Record 9 of Set 1 | chuy\n",
      "Processing Record 10 of Set 1 | toliary\n",
      "City not found. Skipping...\n",
      "Processing Record 11 of Set 1 | manpur\n",
      "Processing Record 12 of Set 1 | xining\n",
      "Processing Record 13 of Set 1 | gat\n",
      "Processing Record 14 of Set 1 | puerto ayora\n",
      "Processing Record 15 of Set 1 | ushuaia\n",
      "Processing Record 16 of Set 1 | lompoc\n",
      "Processing Record 17 of Set 1 | new norfolk\n",
      "Processing Record 18 of Set 1 | sao filipe\n",
      "Processing Record 19 of Set 1 | illoqqortoormiut\n",
      "City not found. Skipping...\n",
      "Processing Record 20 of Set 1 | bluff\n",
      "Processing Record 21 of Set 1 | isangel\n",
      "Processing Record 22 of Set 1 | cape town\n",
      "Processing Record 23 of Set 1 | castro\n",
      "Processing Record 24 of Set 1 | suntar\n",
      "Processing Record 25 of Set 1 | butaritari\n",
      "Processing Record 26 of Set 1 | mataura\n",
      "Processing Record 27 of Set 1 | tuktoyaktuk\n",
      "Processing Record 28 of Set 1 | talnakh\n",
      "Processing Record 29 of Set 1 | el alto\n",
      "Processing Record 30 of Set 1 | mar del plata\n",
      "Processing Record 31 of Set 1 | busselton\n",
      "Processing Record 32 of Set 1 | punta arenas\n",
      "Processing Record 33 of Set 1 | paso de los toros\n",
      "Processing Record 34 of Set 1 | dingle\n",
      "Processing Record 35 of Set 1 | ponta do sol\n",
      "Processing Record 36 of Set 1 | komsomolskiy\n",
      "Processing Record 37 of Set 1 | klaksvik\n",
      "Processing Record 38 of Set 1 | bogorodskoye\n",
      "Processing Record 39 of Set 1 | bacuit\n",
      "City not found. Skipping...\n",
      "Processing Record 40 of Set 1 | bismil\n",
      "Processing Record 41 of Set 1 | inderborskiy\n",
      "City not found. Skipping...\n",
      "Processing Record 42 of Set 1 | abu kamal\n",
      "Processing Record 43 of Set 1 | grand gaube\n",
      "Processing Record 44 of Set 1 | wixom\n",
      "Processing Record 45 of Set 1 | belushya guba\n",
      "City not found. Skipping...\n",
      "Processing Record 46 of Set 1 | haines junction\n",
      "Processing Record 47 of Set 1 | barawe\n",
      "City not found. Skipping...\n",
      "Processing Record 48 of Set 1 | kapaa\n",
      "Processing Record 49 of Set 1 | albany\n",
      "Processing Record 1 of Set 2 | dikson\n",
      "Processing Record 2 of Set 2 | khanino\n",
      "Processing Record 3 of Set 2 | zlobin\n",
      "Processing Record 4 of Set 2 | rikitea\n",
      "Processing Record 5 of Set 2 | carutapera\n",
      "Processing Record 6 of Set 2 | mayumba\n",
      "Processing Record 7 of Set 2 | grand forks\n",
      "Processing Record 8 of Set 2 | tasiilaq\n",
      "Processing Record 9 of Set 2 | cherskiy\n",
      "Processing Record 10 of Set 2 | ciudad bolivar\n",
      "Processing Record 11 of Set 2 | khatanga\n",
      "Processing Record 12 of Set 2 | faya\n",
      "Processing Record 13 of Set 2 | kavieng\n",
      "Processing Record 14 of Set 2 | zhanakorgan\n",
      "Processing Record 15 of Set 2 | sept-iles\n",
      "Processing Record 16 of Set 2 | pevek\n",
      "Processing Record 17 of Set 2 | shellbrook\n",
      "Processing Record 18 of Set 2 | vaini\n",
      "Processing Record 19 of Set 2 | sunrise manor\n",
      "Processing Record 20 of Set 2 | sambava\n",
      "Processing Record 21 of Set 2 | lazarev\n",
      "Processing Record 22 of Set 2 | neryungri\n",
      "Processing Record 23 of Set 2 | anchorage\n",
      "Processing Record 24 of Set 2 | sarakhs\n",
      "Processing Record 25 of Set 2 | hilo\n",
      "Processing Record 26 of Set 2 | taitung\n",
      "Processing Record 27 of Set 2 | longyearbyen\n",
      "Processing Record 28 of Set 2 | geraldton\n",
      "Processing Record 29 of Set 2 | mahebourg\n",
      "Processing Record 30 of Set 2 | cabo san lucas\n",
      "Processing Record 31 of Set 2 | sile\n",
      "Processing Record 32 of Set 2 | kainantu\n",
      "Processing Record 33 of Set 2 | lucapa\n",
      "Processing Record 34 of Set 2 | hermanus\n",
      "Processing Record 35 of Set 2 | bredasdorp\n",
      "Processing Record 36 of Set 2 | naze\n",
      "Processing Record 37 of Set 2 | palabuhanratu\n",
      "City not found. Skipping...\n",
      "Processing Record 38 of Set 2 | warqla\n",
      "City not found. Skipping...\n",
      "Processing Record 39 of Set 2 | mezhova\n",
      "Processing Record 40 of Set 2 | praia\n",
      "Processing Record 41 of Set 2 | vila\n",
      "Processing Record 42 of Set 2 | saint-philippe\n",
      "Processing Record 43 of Set 2 | georgetown\n",
      "Processing Record 44 of Set 2 | bolobo\n",
      "Processing Record 45 of Set 2 | srandakan\n",
      "Processing Record 46 of Set 2 | hirara\n",
      "Processing Record 47 of Set 2 | lagoa\n",
      "Processing Record 48 of Set 2 | hobart\n",
      "Processing Record 49 of Set 2 | port hedland\n",
      "Processing Record 1 of Set 3 | thompson\n",
      "Processing Record 2 of Set 3 | monrovia\n",
      "Processing Record 3 of Set 3 | liaocheng\n",
      "Processing Record 4 of Set 3 | springbok\n",
      "Processing Record 5 of Set 3 | bafq\n",
      "Processing Record 6 of Set 3 | padang\n",
      "Processing Record 7 of Set 3 | noyon\n",
      "Processing Record 8 of Set 3 | hamilton\n",
      "Processing Record 9 of Set 3 | atuona\n",
      "Processing Record 10 of Set 3 | umzimvubu\n",
      "City not found. Skipping...\n",
      "Processing Record 11 of Set 3 | nanortalik\n",
      "Processing Record 12 of Set 3 | kahului\n",
      "Processing Record 13 of Set 3 | shache\n",
      "Processing Record 14 of Set 3 | la ronge\n",
      "Processing Record 15 of Set 3 | norman wells\n",
      "Processing Record 16 of Set 3 | kodiak\n",
      "Processing Record 17 of Set 3 | la sarre\n",
      "Processing Record 18 of Set 3 | dwarka\n",
      "Processing Record 19 of Set 3 | cradock\n",
      "Processing Record 20 of Set 3 | obo\n",
      "Processing Record 21 of Set 3 | saint george\n",
      "Processing Record 22 of Set 3 | nizwa\n",
      "Processing Record 23 of Set 3 | riobamba\n",
      "Processing Record 24 of Set 3 | la tuque\n",
      "Processing Record 25 of Set 3 | tucupita\n",
      "Processing Record 26 of Set 3 | lobau\n",
      "Processing Record 27 of Set 3 | pedini\n",
      "Processing Record 28 of Set 3 | edmundston\n",
      "Processing Record 29 of Set 3 | mpika\n",
      "Processing Record 30 of Set 3 | ancud\n",
      "Processing Record 31 of Set 3 | east london\n",
      "Processing Record 32 of Set 3 | bahia blanca\n",
      "Processing Record 33 of Set 3 | bathsheba\n",
      "Processing Record 34 of Set 3 | caravelas\n",
      "Processing Record 35 of Set 3 | saskylakh\n",
      "Processing Record 36 of Set 3 | bowen\n",
      "Processing Record 37 of Set 3 | redding\n",
      "Processing Record 38 of Set 3 | san cristobal\n",
      "Processing Record 39 of Set 3 | ketchikan\n",
      "Processing Record 40 of Set 3 | leningradskiy\n",
      "Processing Record 41 of Set 3 | tsihombe\n",
      "City not found. Skipping...\n",
      "Processing Record 42 of Set 3 | murgab\n",
      "Processing Record 43 of Set 3 | vila velha\n",
      "Processing Record 44 of Set 3 | itarema\n",
      "Processing Record 45 of Set 3 | zhangjiakou\n",
      "Processing Record 46 of Set 3 | waingapu\n",
      "Processing Record 47 of Set 3 | kisangani\n",
      "Processing Record 48 of Set 3 | hay river\n",
      "Processing Record 49 of Set 3 | puerto madryn\n",
      "Processing Record 1 of Set 4 | tazovskiy\n",
      "Processing Record 2 of Set 4 | chokurdakh\n",
      "Processing Record 3 of Set 4 | victoria\n",
      "Processing Record 4 of Set 4 | lata\n",
      "Processing Record 5 of Set 4 | beloha\n",
      "Processing Record 6 of Set 4 | izumo\n",
      "Processing Record 7 of Set 4 | port elizabeth\n",
      "Processing Record 8 of Set 4 | nizhneyansk\n",
      "City not found. Skipping...\n",
      "Processing Record 9 of Set 4 | sentyabrskiy\n",
      "City not found. Skipping...\n",
      "Processing Record 10 of Set 4 | manavalakurichi\n",
      "Processing Record 11 of Set 4 | taolanaro\n",
      "City not found. Skipping...\n",
      "Processing Record 12 of Set 4 | kichera\n",
      "Processing Record 13 of Set 4 | beringovskiy\n",
      "Processing Record 14 of Set 4 | warsaw\n",
      "Processing Record 15 of Set 4 | muros\n",
      "Processing Record 16 of Set 4 | tateyama\n",
      "Processing Record 17 of Set 4 | carnarvon\n",
      "Processing Record 18 of Set 4 | bambous virieux\n",
      "Processing Record 19 of Set 4 | alta floresta\n",
      "Processing Record 20 of Set 4 | rawson\n",
      "Processing Record 21 of Set 4 | ambilobe\n",
      "Processing Record 22 of Set 4 | elizabeth city\n",
      "Processing Record 23 of Set 4 | pisco\n",
      "Processing Record 24 of Set 4 | narsaq\n",
      "Processing Record 25 of Set 4 | lebu\n",
      "Processing Record 26 of Set 4 | airai\n",
      "Processing Record 27 of Set 4 | port alfred\n",
      "Processing Record 28 of Set 4 | barentsburg\n",
      "City not found. Skipping...\n",
      "Processing Record 29 of Set 4 | ruteng\n",
      "Processing Record 30 of Set 4 | half moon bay\n",
      "Processing Record 31 of Set 4 | turtkul\n",
      "City not found. Skipping...\n",
      "Processing Record 32 of Set 4 | yerbogachen\n",
      "Processing Record 33 of Set 4 | tucuman\n",
      "Processing Record 34 of Set 4 | ornskoldsvik\n",
      "Processing Record 35 of Set 4 | baykit\n",
      "Processing Record 36 of Set 4 | houma\n",
      "Processing Record 37 of Set 4 | harper\n",
      "Processing Record 38 of Set 4 | nome\n",
      "Processing Record 39 of Set 4 | tigil\n",
      "Processing Record 40 of Set 4 | egvekinot\n",
      "Processing Record 41 of Set 4 | port lincoln\n",
      "Processing Record 42 of Set 4 | severo-kurilsk\n",
      "Processing Record 43 of Set 4 | homer\n",
      "Processing Record 44 of Set 4 | puerto colombia\n",
      "Processing Record 45 of Set 4 | nemuro\n",
      "Processing Record 46 of Set 4 | christchurch\n",
      "Processing Record 47 of Set 4 | varzea grande\n",
      "Processing Record 48 of Set 4 | bethel\n",
      "Processing Record 49 of Set 4 | kununurra\n",
      "Processing Record 1 of Set 5 | palmer\n",
      "Processing Record 2 of Set 5 | verkhnevilyuysk\n",
      "Processing Record 3 of Set 5 | dunda\n",
      "Processing Record 4 of Set 5 | acapulco\n",
      "Processing Record 5 of Set 5 | beira\n",
      "Processing Record 6 of Set 5 | sandwick\n",
      "Processing Record 7 of Set 5 | kyabram\n",
      "Processing Record 8 of Set 5 | dali\n",
      "Processing Record 9 of Set 5 | galiwinku\n",
      "City not found. Skipping...\n",
      "Processing Record 10 of Set 5 | estelle\n",
      "Processing Record 11 of Set 5 | novorzhev\n",
      "Processing Record 12 of Set 5 | port pirie\n",
      "Processing Record 13 of Set 5 | alofi\n",
      "Processing Record 14 of Set 5 | gijon\n",
      "Processing Record 15 of Set 5 | zhigansk\n",
      "Processing Record 16 of Set 5 | jamestown\n",
      "Processing Record 17 of Set 5 | aksu\n",
      "Processing Record 18 of Set 5 | salalah\n",
      "Processing Record 19 of Set 5 | bengkalis\n",
      "City not found. Skipping...\n",
      "Processing Record 20 of Set 5 | arrecife\n",
      "Processing Record 21 of Set 5 | acoua\n",
      "Processing Record 22 of Set 5 | gazanjyk\n",
      "Processing Record 23 of Set 5 | balabac\n",
      "Processing Record 24 of Set 5 | maghama\n",
      "City not found. Skipping...\n",
      "Processing Record 25 of Set 5 | lavrentiya\n",
      "Processing Record 26 of Set 5 | goderich\n",
      "Processing Record 27 of Set 5 | prainha\n",
      "Processing Record 28 of Set 5 | batagay-alyta\n",
      "Processing Record 29 of Set 5 | circleville\n",
      "Processing Record 30 of Set 5 | ferme-neuve\n",
      "Processing Record 31 of Set 5 | arraial do cabo\n",
      "Processing Record 32 of Set 5 | maldonado\n",
      "Processing Record 33 of Set 5 | hasaki\n",
      "Processing Record 34 of Set 5 | provideniya\n",
      "Processing Record 35 of Set 5 | batsfjord\n",
      "Processing Record 36 of Set 5 | maragogi\n",
      "Processing Record 37 of Set 5 | clyde river\n",
      "Processing Record 38 of Set 5 | labuhan\n",
      "Processing Record 39 of Set 5 | maniitsoq\n",
      "Processing Record 40 of Set 5 | japura\n",
      "Processing Record 41 of Set 5 | bitung\n",
      "Processing Record 42 of Set 5 | amderma\n",
      "City not found. Skipping...\n",
      "Processing Record 43 of Set 5 | richards bay\n",
      "Processing Record 44 of Set 5 | paracuru\n",
      "Processing Record 45 of Set 5 | wasilla\n",
      "Processing Record 46 of Set 5 | fukue\n",
      "Processing Record 47 of Set 5 | souillac\n",
      "Processing Record 48 of Set 5 | ribeira grande\n",
      "Processing Record 49 of Set 5 | bialystok\n",
      "Processing Record 1 of Set 6 | visnes\n",
      "Processing Record 2 of Set 6 | chernyshevskiy\n",
      "Processing Record 3 of Set 6 | tuatapere\n",
      "Processing Record 4 of Set 6 | santa rosa\n",
      "Processing Record 5 of Set 6 | kedougou\n",
      "Processing Record 6 of Set 6 | eureka\n",
      "Processing Record 7 of Set 6 | paamiut\n",
      "Processing Record 8 of Set 6 | kupang\n",
      "Processing Record 9 of Set 6 | turukhansk\n",
      "Processing Record 10 of Set 6 | shimoda\n",
      "Processing Record 11 of Set 6 | vao\n",
      "Processing Record 12 of Set 6 | kutum\n",
      "Processing Record 13 of Set 6 | bolungarvik\n",
      "City not found. Skipping...\n",
      "Processing Record 14 of Set 6 | college\n",
      "Processing Record 15 of Set 6 | timra\n",
      "Processing Record 16 of Set 6 | kukmor\n",
      "Processing Record 17 of Set 6 | coquimbo\n",
      "Processing Record 18 of Set 6 | cedar city\n",
      "Processing Record 19 of Set 6 | xai-xai\n",
      "Processing Record 20 of Set 6 | noumea\n",
      "Processing Record 21 of Set 6 | atbasar\n",
      "Processing Record 22 of Set 6 | sinnamary\n",
      "Processing Record 23 of Set 6 | imbituba\n",
      "Processing Record 24 of Set 6 | santa maria da vitoria\n",
      "Processing Record 25 of Set 6 | vanimo\n",
      "Processing Record 26 of Set 6 | saint anthony\n",
      "Processing Record 27 of Set 6 | gold coast\n",
      "Processing Record 28 of Set 6 | lyuban\n",
      "Processing Record 29 of Set 6 | port hardy\n",
      "Processing Record 30 of Set 6 | ilulissat\n",
      "Processing Record 31 of Set 6 | eirunepe\n",
      "Processing Record 32 of Set 6 | yermakovskoye\n",
      "Processing Record 33 of Set 6 | fenoarivo\n",
      "Processing Record 34 of Set 6 | upernavik\n",
      "Processing Record 35 of Set 6 | sakakah\n",
      "Processing Record 36 of Set 6 | uk\n",
      "City not found. Skipping...\n",
      "Processing Record 37 of Set 6 | yeppoon\n",
      "Processing Record 38 of Set 6 | bonthe\n",
      "Processing Record 39 of Set 6 | necochea\n",
      "Processing Record 40 of Set 6 | kamaishi\n",
      "Processing Record 41 of Set 6 | brae\n",
      "Processing Record 42 of Set 6 | robore\n",
      "Processing Record 43 of Set 6 | acari\n",
      "Processing Record 44 of Set 6 | samusu\n",
      "City not found. Skipping...\n",
      "Processing Record 45 of Set 6 | kungurtug\n",
      "Processing Record 46 of Set 6 | heihe\n",
      "Processing Record 47 of Set 6 | fare\n",
      "Processing Record 48 of Set 6 | mitu\n",
      "Processing Record 49 of Set 6 | vostok\n",
      "Processing Record 1 of Set 7 | tarko-sale\n",
      "Processing Record 2 of Set 7 | port said\n",
      "Processing Record 3 of Set 7 | mahajanga\n",
      "Processing Record 4 of Set 7 | sao joao da barra\n",
      "Processing Record 5 of Set 7 | nikolskoye\n",
      "Processing Record 6 of Set 7 | attawapiskat\n",
      "City not found. Skipping...\n",
      "Processing Record 7 of Set 7 | maun\n",
      "Processing Record 8 of Set 7 | lagunas\n",
      "Processing Record 9 of Set 7 | chicama\n",
      "Processing Record 10 of Set 7 | latung\n",
      "Processing Record 11 of Set 7 | cururupu\n",
      "Processing Record 12 of Set 7 | kamenskoye\n",
      "City not found. Skipping...\n",
      "Processing Record 13 of Set 7 | praia da vitoria\n",
      "Processing Record 14 of Set 7 | olinda\n",
      "Processing Record 15 of Set 7 | bosobolo\n",
      "Processing Record 16 of Set 7 | matara\n",
      "Processing Record 17 of Set 7 | harnosand\n",
      "Processing Record 18 of Set 7 | sur\n",
      "Processing Record 19 of Set 7 | hunza\n",
      "City not found. Skipping...\n",
      "Processing Record 20 of Set 7 | bandarbeyla\n",
      "Processing Record 21 of Set 7 | urk\n",
      "Processing Record 22 of Set 7 | barrow\n",
      "Processing Record 23 of Set 7 | bronnoysund\n",
      "Processing Record 24 of Set 7 | skopin\n",
      "Processing Record 25 of Set 7 | katsuura\n",
      "Processing Record 26 of Set 7 | atocha\n",
      "Processing Record 27 of Set 7 | fulitun\n",
      "City not found. Skipping...\n",
      "Processing Record 28 of Set 7 | wooster\n",
      "Processing Record 29 of Set 7 | lander\n",
      "Processing Record 30 of Set 7 | jagdalpur\n",
      "Processing Record 31 of Set 7 | tiksi\n",
      "Processing Record 32 of Set 7 | cordele\n",
      "Processing Record 33 of Set 7 | faanui\n",
      "Processing Record 34 of Set 7 | cayenne\n",
      "Processing Record 35 of Set 7 | tautira\n",
      "Processing Record 36 of Set 7 | bloemfontein\n",
      "Processing Record 37 of Set 7 | zhangye\n",
      "Processing Record 38 of Set 7 | esperance\n",
      "Processing Record 39 of Set 7 | yulara\n",
      "Processing Record 40 of Set 7 | kota tinggi\n",
      "Processing Record 41 of Set 7 | rawannawi\n",
      "City not found. Skipping...\n",
      "Processing Record 42 of Set 7 | tabuk\n",
      "Processing Record 43 of Set 7 | waitara\n",
      "Processing Record 44 of Set 7 | broome\n",
      "Processing Record 45 of Set 7 | sitka\n",
      "Processing Record 46 of Set 7 | benjamin constant\n",
      "Processing Record 47 of Set 7 | palkonda\n",
      "Processing Record 48 of Set 7 | hobyo\n",
      "Processing Record 49 of Set 7 | bubaque\n",
      "Processing Record 1 of Set 8 | saleaula\n",
      "City not found. Skipping...\n",
      "Processing Record 2 of Set 8 | luanda\n",
      "Processing Record 3 of Set 8 | port blair\n",
      "Processing Record 4 of Set 8 | tumannyy\n",
      "City not found. Skipping...\n",
      "Processing Record 5 of Set 8 | novyye lyady\n",
      "Processing Record 6 of Set 8 | dhidhdhoo\n",
      "Processing Record 7 of Set 8 | manaus\n",
      "Processing Record 8 of Set 8 | aquin\n",
      "Processing Record 9 of Set 8 | marmaris\n",
      "Processing Record 10 of Set 8 | flinders\n",
      "Processing Record 11 of Set 8 | searcy\n",
      "Processing Record 12 of Set 8 | quatre cocos\n",
      "Processing Record 13 of Set 8 | korsakov\n",
      "Processing Record 14 of Set 8 | torbay\n",
      "Processing Record 15 of Set 8 | teya\n",
      "Processing Record 16 of Set 8 | fortuna\n",
      "Processing Record 17 of Set 8 | san patricio\n",
      "Processing Record 18 of Set 8 | cuamba\n",
      "Processing Record 19 of Set 8 | te anau\n",
      "Processing Record 20 of Set 8 | jutai\n",
      "Processing Record 21 of Set 8 | nizhniy kuranakh\n",
      "Processing Record 22 of Set 8 | pangnirtung\n",
      "Processing Record 23 of Set 8 | qasigiannguit\n",
      "Processing Record 24 of Set 8 | prince rupert\n",
      "Processing Record 25 of Set 8 | trjavna\n",
      "City not found. Skipping...\n",
      "Processing Record 26 of Set 8 | shenjiamen\n",
      "Processing Record 27 of Set 8 | gunjur\n",
      "Processing Record 28 of Set 8 | moa\n",
      "Processing Record 29 of Set 8 | khani\n",
      "Processing Record 30 of Set 8 | truth or consequences\n",
      "Processing Record 31 of Set 8 | prince albert\n",
      "Processing Record 32 of Set 8 | west plains\n",
      "Processing Record 33 of Set 8 | vagamo\n",
      "Processing Record 34 of Set 8 | trapani\n",
      "Processing Record 35 of Set 8 | suixi\n",
      "Processing Record 36 of Set 8 | aklavik\n",
      "Processing Record 37 of Set 8 | sao simao\n",
      "Processing Record 38 of Set 8 | magway\n",
      "Processing Record 39 of Set 8 | umm kaddadah\n",
      "Processing Record 40 of Set 8 | luderitz\n",
      "Processing Record 41 of Set 8 | mafinga\n",
      "Processing Record 42 of Set 8 | borovoy\n",
      "Processing Record 43 of Set 8 | sumkino\n",
      "Processing Record 44 of Set 8 | urumqi\n",
      "Processing Record 45 of Set 8 | bayir\n",
      "Processing Record 46 of Set 8 | sarh\n",
      "Processing Record 47 of Set 8 | cagli\n",
      "Processing Record 48 of Set 8 | lorengau\n",
      "Processing Record 49 of Set 8 | gigmoto\n",
      "Processing Record 1 of Set 9 | takanabe\n",
      "Processing Record 2 of Set 9 | vardo\n",
      "Processing Record 3 of Set 9 | svetlyy\n",
      "Processing Record 4 of Set 9 | olafsvik\n",
      "Processing Record 5 of Set 9 | eyl\n",
      "Processing Record 6 of Set 9 | guerrero negro\n",
      "Processing Record 7 of Set 9 | kharovsk\n",
      "Processing Record 8 of Set 9 | bainbridge\n",
      "Processing Record 9 of Set 9 | artesia\n",
      "Processing Record 10 of Set 9 | gizo\n",
      "Processing Record 11 of Set 9 | temiscaming\n",
      "Processing Record 12 of Set 9 | mantua\n",
      "Processing Record 13 of Set 9 | riyadh\n",
      "Processing Record 14 of Set 9 | martapura\n",
      "Processing Record 15 of Set 9 | acajutla\n",
      "Processing Record 16 of Set 9 | pak chong\n",
      "Processing Record 17 of Set 9 | evansville\n",
      "Processing Record 18 of Set 9 | erenhot\n",
      "Processing Record 19 of Set 9 | flin flon\n",
      "Processing Record 20 of Set 9 | sazonovo\n",
      "Processing Record 21 of Set 9 | codrington\n",
      "Processing Record 22 of Set 9 | palestine\n",
      "Processing Record 23 of Set 9 | namibe\n",
      "Processing Record 24 of Set 9 | mitha tiwana\n",
      "Processing Record 25 of Set 9 | mumbwa\n",
      "Processing Record 26 of Set 9 | chimore\n",
      "Processing Record 27 of Set 9 | zeya\n",
      "Processing Record 28 of Set 9 | viligili\n",
      "City not found. Skipping...\n",
      "Processing Record 29 of Set 9 | kurtalan\n",
      "Processing Record 30 of Set 9 | iqaluit\n",
      "Processing Record 31 of Set 9 | hualmay\n",
      "Processing Record 32 of Set 9 | oistins\n",
      "Processing Record 33 of Set 9 | sonoita\n",
      "Processing Record 34 of Set 9 | omsukchan\n",
      "Processing Record 35 of Set 9 | nanakuli\n",
      "Processing Record 36 of Set 9 | kedrovyy\n",
      "Processing Record 37 of Set 9 | tura\n",
      "Processing Record 38 of Set 9 | drumnadrochit\n",
      "Processing Record 39 of Set 9 | bushenyi\n",
      "Processing Record 40 of Set 9 | grand river south east\n",
      "City not found. Skipping...\n",
      "Processing Record 41 of Set 9 | yangambi\n",
      "Processing Record 42 of Set 9 | biltine\n",
      "Processing Record 43 of Set 9 | namatanai\n",
      "Processing Record 44 of Set 9 | susangerd\n",
      "Processing Record 45 of Set 9 | samarinda\n",
      "Processing Record 46 of Set 9 | saint-pierre\n",
      "Processing Record 47 of Set 9 | mitsamiouli\n",
      "Processing Record 48 of Set 9 | falam\n",
      "Processing Record 49 of Set 9 | vestmannaeyjar\n",
      "Processing Record 1 of Set 10 | poum\n",
      "Processing Record 2 of Set 10 | olenegorsk\n",
      "Processing Record 3 of Set 10 | hanna\n",
      "Processing Record 4 of Set 10 | harrisonburg\n",
      "Processing Record 5 of Set 10 | sangar\n",
      "Processing Record 6 of Set 10 | kropotkin\n",
      "Processing Record 7 of Set 10 | kieta\n",
      "Processing Record 8 of Set 10 | tete\n",
      "Processing Record 9 of Set 10 | tecoanapa\n",
      "Processing Record 10 of Set 10 | husavik\n",
      "Processing Record 11 of Set 10 | romny\n",
      "Processing Record 12 of Set 10 | vila franca do campo\n",
      "Processing Record 13 of Set 10 | sento se\n",
      "City not found. Skipping...\n",
      "Processing Record 14 of Set 10 | waitati\n",
      "Processing Record 15 of Set 10 | camargo\n",
      "Processing Record 16 of Set 10 | shanhetun\n",
      "Processing Record 17 of Set 10 | san ramon\n",
      "Processing Record 18 of Set 10 | nizhneangarsk\n",
      "Processing Record 19 of Set 10 | jacksonville\n",
      "Processing Record 20 of Set 10 | lewiston\n",
      "Processing Record 21 of Set 10 | altay\n",
      "Processing Record 22 of Set 10 | redmond\n",
      "Processing Record 23 of Set 10 | port macquarie\n",
      "Processing Record 24 of Set 10 | dawlatabad\n",
      "Processing Record 25 of Set 10 | mys shmidta\n",
      "City not found. Skipping...\n",
      "Processing Record 26 of Set 10 | nuevo progreso\n",
      "Processing Record 27 of Set 10 | sembe\n",
      "Processing Record 28 of Set 10 | fairbanks\n",
      "Processing Record 29 of Set 10 | merauke\n",
      "Processing Record 30 of Set 10 | bongandanga\n",
      "Processing Record 31 of Set 10 | sumber\n",
      "Processing Record 32 of Set 10 | tam ky\n",
      "Processing Record 33 of Set 10 | kinna\n",
      "Processing Record 34 of Set 10 | aqtobe\n",
      "Processing Record 35 of Set 10 | angoram\n",
      "Processing Record 36 of Set 10 | mosetse\n",
      "Processing Record 37 of Set 10 | churapcha\n",
      "Processing Record 38 of Set 10 | marsh harbour\n",
      "Processing Record 39 of Set 10 | majdanpek\n",
      "Processing Record 40 of Set 10 | bajo baudo\n",
      "City not found. Skipping...\n",
      "Processing Record 41 of Set 10 | chapais\n",
      "Processing Record 42 of Set 10 | toora-khem\n",
      "Processing Record 43 of Set 10 | karratha\n",
      "Processing Record 44 of Set 10 | colesberg\n",
      "Processing Record 45 of Set 10 | kloulklubed\n",
      "Processing Record 46 of Set 10 | banjar\n",
      "Processing Record 47 of Set 10 | gogrial\n",
      "Processing Record 48 of Set 10 | gisborne\n",
      "Processing Record 49 of Set 10 | petropavl\n",
      "Processing Record 1 of Set 11 | goryachegorsk\n",
      "Processing Record 2 of Set 11 | zeljezno polje\n",
      "Processing Record 3 of Set 11 | malwan\n",
      "City not found. Skipping...\n",
      "Processing Record 4 of Set 11 | taksimo\n",
      "Processing Record 5 of Set 11 | kaitangata\n",
      "Processing Record 6 of Set 11 | kindu\n",
      "Processing Record 7 of Set 11 | mandalgovi\n",
      "Processing Record 8 of Set 11 | lokosovo\n",
      "Processing Record 9 of Set 11 | laguna\n",
      "Processing Record 10 of Set 11 | hamadan\n",
      "Processing Record 11 of Set 11 | manyana\n",
      "Processing Record 12 of Set 11 | kushmurun\n",
      "Processing Record 13 of Set 11 | jabinyanah\n",
      "Processing Record 14 of Set 11 | saint-francois\n",
      "Processing Record 15 of Set 11 | kalas\n",
      "Processing Record 16 of Set 11 | velke mezirici\n",
      "Processing Record 17 of Set 11 | arlit\n",
      "Processing Record 18 of Set 11 | san quintin\n",
      "Processing Record 19 of Set 11 | miramar\n",
      "Processing Record 20 of Set 11 | touros\n",
      "Processing Record 21 of Set 11 | qaqortoq\n",
      "Processing Record 22 of Set 11 | agva\n",
      "City not found. Skipping...\n",
      "Processing Record 23 of Set 11 | san andres\n",
      "Processing Record 24 of Set 11 | northam\n",
      "Processing Record 25 of Set 11 | borba\n",
      "Processing Record 26 of Set 11 | cockburn town\n",
      "Processing Record 27 of Set 11 | balkanabat\n",
      "Processing Record 28 of Set 11 | meyungs\n",
      "City not found. Skipping...\n",
      "Processing Record 29 of Set 11 | tessalit\n",
      "Processing Record 30 of Set 11 | hofn\n",
      "Processing Record 31 of Set 11 | vysokopillya\n",
      "Processing Record 32 of Set 11 | marawi\n",
      "Processing Record 33 of Set 11 | port keats\n",
      "Processing Record 34 of Set 11 | kabinda\n",
      "Processing Record 35 of Set 11 | constitucion\n",
      "Processing Record 36 of Set 11 | atar\n",
      "Processing Record 37 of Set 11 | birin\n",
      "Processing Record 38 of Set 11 | gornopravdinsk\n",
      "Processing Record 39 of Set 11 | saldanha\n",
      "Processing Record 40 of Set 11 | saint-andre-les-vergers\n",
      "Processing Record 41 of Set 11 | bintulu\n",
      "Processing Record 42 of Set 11 | bara\n",
      "Processing Record 43 of Set 11 | ranau\n",
      "Processing Record 44 of Set 11 | talaya\n",
      "Processing Record 45 of Set 11 | spiridonovka\n",
      "Processing Record 46 of Set 11 | chase\n",
      "Processing Record 47 of Set 11 | partur\n",
      "Processing Record 48 of Set 11 | balykshi\n",
      "Processing Record 49 of Set 11 | plettenberg bay\n",
      "Processing Record 1 of Set 12 | omboue\n",
      "Processing Record 2 of Set 12 | broken hill\n",
      "Processing Record 3 of Set 12 | harwich\n",
      "Processing Record 4 of Set 12 | leshukonskoye\n",
      "Processing Record 5 of Set 12 | scarborough\n",
      "Processing Record 6 of Set 12 | odienne\n",
      "Processing Record 7 of Set 12 | karaul\n",
      "City not found. Skipping...\n",
      "Processing Record 8 of Set 12 | hami\n",
      "Processing Record 9 of Set 12 | espanola\n",
      "Processing Record 10 of Set 12 | kavaratti\n",
      "Processing Record 11 of Set 12 | brownsville\n",
      "Processing Record 12 of Set 12 | cape coast\n",
      "Processing Record 13 of Set 12 | ushtobe\n",
      "Processing Record 14 of Set 12 | trinidad\n",
      "Processing Record 15 of Set 12 | marrakesh\n",
      "Processing Record 16 of Set 12 | ozernovskiy\n",
      "Processing Record 17 of Set 12 | pacific grove\n",
      "Processing Record 18 of Set 12 | qaanaaq\n",
      "Processing Record 19 of Set 12 | kuusamo\n",
      "Processing Record 20 of Set 12 | rovaniemi\n",
      "Processing Record 21 of Set 12 | loubomo\n",
      "Processing Record 22 of Set 12 | jamsa\n",
      "Processing Record 23 of Set 12 | high rock\n",
      "Processing Record 24 of Set 12 | abeche\n",
      "Processing Record 25 of Set 12 | katangli\n",
      "Processing Record 26 of Set 12 | payo\n",
      "Processing Record 27 of Set 12 | buchanan\n",
      "Processing Record 28 of Set 12 | marathon\n",
      "Processing Record 29 of Set 12 | birjand\n",
      "Processing Record 30 of Set 12 | jalu\n",
      "Processing Record 31 of Set 12 | la llanada\n",
      "Processing Record 32 of Set 12 | rio grande\n",
      "Processing Record 33 of Set 12 | sehwan\n",
      "Processing Record 34 of Set 12 | brainerd\n",
      "Processing Record 35 of Set 12 | peruibe\n",
      "Processing Record 36 of Set 12 | marcona\n",
      "City not found. Skipping...\n",
      "Processing Record 37 of Set 12 | pochutla\n",
      "Processing Record 38 of Set 12 | angatuba\n",
      "Processing Record 39 of Set 12 | oriximina\n",
      "Processing Record 40 of Set 12 | mount isa\n",
      "Processing Record 41 of Set 12 | roald\n",
      "Processing Record 42 of Set 12 | halifax\n",
      "Processing Record 43 of Set 12 | suao\n",
      "City not found. Skipping...\n",
      "Processing Record 44 of Set 12 | epe\n",
      "Processing Record 45 of Set 12 | kurmanayevka\n",
      "Processing Record 46 of Set 12 | saint-augustin\n",
      "Processing Record 47 of Set 12 | groningen\n",
      "Processing Record 48 of Set 12 | asau\n",
      "Processing Record 49 of Set 12 | vanderhoof\n",
      "Processing Record 1 of Set 13 | slave lake\n",
      "Processing Record 2 of Set 13 | frontignan\n",
      "Processing Record 3 of Set 13 | buin\n",
      "Processing Record 4 of Set 13 | verkhnyaya inta\n",
      "Processing Record 5 of Set 13 | sokoto\n",
      "Processing Record 6 of Set 13 | aku\n",
      "Processing Record 7 of Set 13 | lulea\n",
      "Processing Record 8 of Set 13 | dalbandin\n",
      "Processing Record 9 of Set 13 | tual\n",
      "Processing Record 10 of Set 13 | quesnel\n",
      "Processing Record 11 of Set 13 | damietta\n",
      "Processing Record 12 of Set 13 | urdzhar\n",
      "City not found. Skipping...\n",
      "Processing Record 13 of Set 13 | fevralsk\n",
      "City not found. Skipping...\n",
      "Processing Record 14 of Set 13 | kamina\n",
      "Processing Record 15 of Set 13 | havoysund\n",
      "Processing Record 16 of Set 13 | taoudenni\n",
      "Processing Record 17 of Set 13 | russell\n",
      "Processing Record 18 of Set 13 | quelimane\n",
      "Processing Record 19 of Set 13 | bandiagara\n",
      "Processing Record 20 of Set 13 | tilichiki\n",
      "Processing Record 21 of Set 13 | porto santo\n",
      "Processing Record 22 of Set 13 | nuuk\n",
      "Processing Record 23 of Set 13 | maningrida\n",
      "Processing Record 24 of Set 13 | changping\n",
      "Processing Record 25 of Set 13 | toamasina\n",
      "Processing Record 26 of Set 13 | ayia anna\n",
      "Processing Record 27 of Set 13 | mastic beach\n",
      "Processing Record 28 of Set 13 | lardos\n",
      "Processing Record 29 of Set 13 | pec\n",
      "Processing Record 30 of Set 13 | lolua\n",
      "City not found. Skipping...\n",
      "Processing Record 31 of Set 13 | benguela\n",
      "Processing Record 32 of Set 13 | petatlan\n",
      "Processing Record 33 of Set 13 | kruisfontein\n",
      "Processing Record 34 of Set 13 | barkhan\n",
      "Processing Record 35 of Set 13 | bichura\n",
      "Processing Record 36 of Set 13 | ostrovnoy\n",
      "Processing Record 37 of Set 13 | le port\n",
      "------------------------------------------------\n",
      "Data Retrieval Complete\n",
      "------------------------------------------------\n"
     ]
    }
   ],
   "source": [
    "#Creating Url\n",
    "url = \"http://api.openweathermap.org/data/2.5/weather?\"\n",
    "temp_units = \"imperial\"\n",
    "\n",
    "# Build test URL\n",
    "test_url = f\"{url}appid={weather_api_key}&units={temp_units}&q=\"\n",
    "\n",
    "lat = []\n",
    "temp = []\n",
    "temp_max = []\n",
    "humidity = []\n",
    "wind_speed = []\n",
    "lng = []\n",
    "date = []\n",
    "country = []\n",
    "cloudiness = []\n",
    "city_id = []\n",
    "\n",
    "\n",
    "\n",
    "# Loop through the list of cities and request for data on each\n",
    "print(\"Beginning Data Retrieval\")\n",
    "print(\"--------------------------------------------\")\n",
    "count = 0\n",
    "set = 1\n",
    "for index, city in enumerate(cities):\n",
    "    count = count + 1\n",
    "    \n",
    "    if count == 50:\n",
    "        count = 1\n",
    "        set = set + 1\n",
    "        \n",
    "    print(f\"Processing Record {count} of Set {set} | {city}\")\n",
    "    try:\n",
    "        response = requests.get(test_url + city).json()\n",
    "        lat.append(response['coord']['lat'])\n",
    "        lng.append(response['coord']['lon'])\n",
    "        temp.append(response['main']['temp'])\n",
    "        temp_max.append(response['main']['temp_max'])\n",
    "        humidity.append(response['main']['humidity'])\n",
    "        wind_speed.append(response['wind']['speed'])\n",
    "        date.append(response['dt'])\n",
    "        country.append(response['sys']['country'])\n",
    "        cloudiness.append(response['clouds']['all'])\n",
    "        \n",
    "    except Exception:\n",
    "        print(\"City not found. Skipping...\")\n",
    "\n",
    "        \n",
    "print(\"------------------------------------------------\")\n",
    "print(\"Data Retrieval Complete\")\n",
    "print(\"------------------------------------------------\")"
   ]
  },
  {
   "cell_type": "markdown",
   "metadata": {},
   "source": [
    "### Convert Raw Data to DataFrame\n",
    "* Export the city data into a .csv.\n",
    "* Display the DataFrame"
   ]
  },
  {
   "cell_type": "code",
   "execution_count": 14,
   "metadata": {},
   "outputs": [],
   "source": [
    "#lists\n",
    "lat = []\n",
    "temp = []\n",
    "temp_max = []\n",
    "humidity = []\n",
    "wind_speed = []\n",
    "lng = []\n",
    "date = []\n",
    "country = []\n",
    "cloudiness = []\n",
    "city_id = []\n",
    "\n",
    "#create DF\n",
    "\n",
    "cities_df = pd.DataFrame({\n",
    "    'City': city_id,\n",
    "    'Lat': lat,\n",
    "    'Lng': lng,\n",
    "    'Max Temp': temp_max,\n",
    "    'Humidity': humidity,\n",
    "    'Cloudiness': cloudiness,\n",
    "    'Wind Speed': wind_speed,\n",
    "    'Country': country,\n",
    "    'Date': date\n",
    "})\n",
    "\n",
    "# Convert to DataFrame\n",
    "weather_city_df = pd.DataFrame(cities_df)"
   ]
  },
  {
   "cell_type": "code",
   "execution_count": 16,
   "metadata": {},
   "outputs": [
    {
     "data": {
      "text/html": [
       "<div>\n",
       "<style scoped>\n",
       "    .dataframe tbody tr th:only-of-type {\n",
       "        vertical-align: middle;\n",
       "    }\n",
       "\n",
       "    .dataframe tbody tr th {\n",
       "        vertical-align: top;\n",
       "    }\n",
       "\n",
       "    .dataframe thead th {\n",
       "        text-align: right;\n",
       "    }\n",
       "</style>\n",
       "<table border=\"1\" class=\"dataframe\">\n",
       "  <thead>\n",
       "    <tr style=\"text-align: right;\">\n",
       "      <th></th>\n",
       "      <th>City</th>\n",
       "      <th>Lat</th>\n",
       "      <th>Lng</th>\n",
       "      <th>Max Temp</th>\n",
       "      <th>Humidity</th>\n",
       "      <th>Cloudiness</th>\n",
       "      <th>Wind Speed</th>\n",
       "      <th>Country</th>\n",
       "      <th>Date</th>\n",
       "    </tr>\n",
       "  </thead>\n",
       "  <tbody>\n",
       "  </tbody>\n",
       "</table>\n",
       "</div>"
      ],
      "text/plain": [
       "Empty DataFrame\n",
       "Columns: [City, Lat, Lng, Max Temp, Humidity, Cloudiness, Wind Speed, Country, Date]\n",
       "Index: []"
      ]
     },
     "execution_count": 16,
     "metadata": {},
     "output_type": "execute_result"
    }
   ],
   "source": [
    "# Export the city data into a .csv file.\n",
    "weather_city_df.to_csv(\"/Users/Vaidehee/Desktop/nu-chi-data-pt-02-2021-u-c-master 3/02-Homework/06-Python-APIs/Instructions/output_data/city_weather_data.csv\", index=False)\n",
    "\n",
    "# Display the DataFrame\n",
    "weather_city_df = pd.read_csv(\"/Users/Vaidehee/Desktop/nu-chi-data-pt-02-2021-u-c-master 3/02-Homework/06-Python-APIs/Instructions/output_data/city_weather_data.csv\")\n",
    "\n",
    "weather_city_df.head()"
   ]
  },
  {
   "cell_type": "markdown",
   "metadata": {},
   "source": [
    "## Inspect the data and remove the cities where the humidity > 100%.\n",
    "----\n",
    "Skip this step if there are no cities that have humidity > 100%. "
   ]
  },
  {
   "cell_type": "code",
   "execution_count": null,
   "metadata": {},
   "outputs": [],
   "source": [
    "#in the example provided, no cities have a humidity of over a 100% so this step was skipped. "
   ]
  },
  {
   "cell_type": "code",
   "execution_count": 17,
   "metadata": {},
   "outputs": [
    {
     "data": {
      "text/plain": [
       "Int64Index([], dtype='int64')"
      ]
     },
     "execution_count": 17,
     "metadata": {},
     "output_type": "execute_result"
    }
   ],
   "source": [
    "#  Get the indices of cities that have humidity over 100%.\n",
    "#in the example provided, no cities have a humidity of over a 100% so this step was skipped. "
   ]
  },
  {
   "cell_type": "code",
   "execution_count": 19,
   "metadata": {},
   "outputs": [
    {
     "data": {
      "text/html": [
       "<div>\n",
       "<style scoped>\n",
       "    .dataframe tbody tr th:only-of-type {\n",
       "        vertical-align: middle;\n",
       "    }\n",
       "\n",
       "    .dataframe tbody tr th {\n",
       "        vertical-align: top;\n",
       "    }\n",
       "\n",
       "    .dataframe thead th {\n",
       "        text-align: right;\n",
       "    }\n",
       "</style>\n",
       "<table border=\"1\" class=\"dataframe\">\n",
       "  <thead>\n",
       "    <tr style=\"text-align: right;\">\n",
       "      <th></th>\n",
       "      <th>City</th>\n",
       "      <th>Lat</th>\n",
       "      <th>Lng</th>\n",
       "      <th>Max Temp</th>\n",
       "      <th>Humidity</th>\n",
       "      <th>Cloudiness</th>\n",
       "      <th>Wind Speed</th>\n",
       "      <th>Country</th>\n",
       "      <th>Date</th>\n",
       "    </tr>\n",
       "  </thead>\n",
       "  <tbody>\n",
       "    <tr>\n",
       "      <td>0</td>\n",
       "      <td>butaritari</td>\n",
       "      <td>3.07</td>\n",
       "      <td>172.79</td>\n",
       "      <td>83.32</td>\n",
       "      <td>74</td>\n",
       "      <td>84</td>\n",
       "      <td>10.42</td>\n",
       "      <td>KI</td>\n",
       "      <td>1593605283</td>\n",
       "    </tr>\n",
       "    <tr>\n",
       "      <td>1</td>\n",
       "      <td>yerbogachen</td>\n",
       "      <td>61.28</td>\n",
       "      <td>108.01</td>\n",
       "      <td>79.52</td>\n",
       "      <td>58</td>\n",
       "      <td>20</td>\n",
       "      <td>7.70</td>\n",
       "      <td>RU</td>\n",
       "      <td>1593605121</td>\n",
       "    </tr>\n",
       "    <tr>\n",
       "      <td>2</td>\n",
       "      <td>cape town</td>\n",
       "      <td>-33.93</td>\n",
       "      <td>18.42</td>\n",
       "      <td>73.00</td>\n",
       "      <td>77</td>\n",
       "      <td>27</td>\n",
       "      <td>4.70</td>\n",
       "      <td>ZA</td>\n",
       "      <td>1593605039</td>\n",
       "    </tr>\n",
       "    <tr>\n",
       "      <td>3</td>\n",
       "      <td>touba</td>\n",
       "      <td>8.28</td>\n",
       "      <td>-7.68</td>\n",
       "      <td>79.97</td>\n",
       "      <td>75</td>\n",
       "      <td>82</td>\n",
       "      <td>3.58</td>\n",
       "      <td>CI</td>\n",
       "      <td>1593605284</td>\n",
       "    </tr>\n",
       "    <tr>\n",
       "      <td>4</td>\n",
       "      <td>jamestown</td>\n",
       "      <td>42.10</td>\n",
       "      <td>-79.24</td>\n",
       "      <td>64.00</td>\n",
       "      <td>88</td>\n",
       "      <td>1</td>\n",
       "      <td>6.93</td>\n",
       "      <td>US</td>\n",
       "      <td>1593605284</td>\n",
       "    </tr>\n",
       "  </tbody>\n",
       "</table>\n",
       "</div>"
      ],
      "text/plain": [
       "          City    Lat     Lng  Max Temp  Humidity  Cloudiness  Wind Speed  \\\n",
       "0   butaritari   3.07  172.79     83.32        74          84       10.42   \n",
       "1  yerbogachen  61.28  108.01     79.52        58          20        7.70   \n",
       "2    cape town -33.93   18.42     73.00        77          27        4.70   \n",
       "3        touba   8.28   -7.68     79.97        75          82        3.58   \n",
       "4    jamestown  42.10  -79.24     64.00        88           1        6.93   \n",
       "\n",
       "  Country        Date  \n",
       "0      KI  1593605283  \n",
       "1      RU  1593605121  \n",
       "2      ZA  1593605039  \n",
       "3      CI  1593605284  \n",
       "4      US  1593605284  "
      ]
     },
     "execution_count": 19,
     "metadata": {},
     "output_type": "execute_result"
    }
   ],
   "source": [
    "# Make a new DataFrame equal to the city data to drop all humidity outliers by index.\n",
    "# Passing \"inplace=False\" will make a copy of the city_data DataFrame, which we call \"clean_city_data\".\n"
   ]
  },
  {
   "cell_type": "code",
   "execution_count": null,
   "metadata": {},
   "outputs": [],
   "source": [
    "#in the example provided, no cities have a humidity of over a 100% so this step was skipped. \n"
   ]
  },
  {
   "cell_type": "markdown",
   "metadata": {},
   "source": [
    "## Plotting the Data\n",
    "* Use proper labeling of the plots using plot titles (including date of analysis) and axes labels.\n",
    "* Save the plotted figures as .pngs."
   ]
  },
  {
   "cell_type": "markdown",
   "metadata": {},
   "source": [
    "## Latitude vs. Temperature Plot"
   ]
  },
  {
   "cell_type": "code",
   "execution_count": 62,
   "metadata": {},
   "outputs": [
    {
     "data": {
      "image/png": "[encoded data removed]",
      "text/plain": [
       "<Figure size 432x288 with 1 Axes>"
      ]
     },
     "metadata": {
      "needs_background": "light"
     },
     "output_type": "display_data"
    },
    {
     "data": {
      "text/plain": [
       "<Figure size 432x288 with 0 Axes>"
      ]
     },
     "metadata": {},
     "output_type": "display_data"
    }
   ],
   "source": [
    "\n",
    "#format plot\n",
    "plt.title(\"City Latitude vs. Max Temperature (04/01/20)\")\n",
    "plt.ylabel(\"Max Temperature (F)\")\n",
    "plt.xlabel(\"Latitude\")\n",
    "plt.grid(True)\n",
    "plt.scatter(weather_df['Lat'], weather_df['Max Temp'], marker = \"o\", s=35, edgecolors= 'black')\n",
    "\n",
    "\n",
    "plt.show()\n",
    "plt.savefig(\"/Users/Vaidehee/Desktop/nu-chi-data-pt-02-2021-u-c-master 3/02-Homework/06-Python-APIs/Instructions/output_data/latvstemp.png\")\n",
    "\n",
    "\n",
    "#data isn't displaying"
   ]
  },
  {
   "cell_type": "markdown",
   "metadata": {},
   "source": [
    "## Latitude vs. Humidity Plot"
   ]
  },
  {
   "cell_type": "code",
   "execution_count": 20,
   "metadata": {},
   "outputs": [
    {
     "data": {
      "image/png": "[encoded data removed]",
      "text/plain": [
       "<Figure size 432x288 with 1 Axes>"
      ]
     },
     "metadata": {
      "needs_background": "light"
     },
     "output_type": "display_data"
    },
    {
     "data": {
      "text/plain": [
       "<Figure size 432x288 with 0 Axes>"
      ]
     },
     "metadata": {},
     "output_type": "display_data"
    }
   ],
   "source": [
    "#format plot\n",
    "plt.title(\"City Latitude vs. Humidity (04/01/20)\")\n",
    "plt.ylabel(\"Humidity (%)\")\n",
    "plt.xlabel(\"Latitude\")\n",
    "plt.grid(True)\n",
    "plt.scatter(weather_city_df['Lat'], weather_city_df['Humidity'], marker = \"o\", s=35, edgecolors= 'black')\n",
    "\n",
    "\n",
    "plt.show()\n",
    "plt.savefig(\"/Users/Vaidehee/Desktop/nu-chi-data-pt-02-2021-u-c-master 3/02-Homework/06-Python-APIs/Instructions/output_data/latvshumidity.png\")\n",
    "\n",
    "\n",
    "#data isn't displaying"
   ]
  },
  {
   "cell_type": "markdown",
   "metadata": {},
   "source": [
    "## Latitude vs. Cloudiness Plot"
   ]
  },
  {
   "cell_type": "code",
   "execution_count": 19,
   "metadata": {},
   "outputs": [
    {
     "data": {
      "image/png": "[encoded data removed]",
      "text/plain": [
       "<Figure size 432x288 with 1 Axes>"
      ]
     },
     "metadata": {
      "needs_background": "light"
     },
     "output_type": "display_data"
    },
    {
     "data": {
      "text/plain": [
       "<Figure size 432x288 with 0 Axes>"
      ]
     },
     "metadata": {},
     "output_type": "display_data"
    }
   ],
   "source": [
    "#format plot\n",
    "plt.title(\"City Latitude vs. Cloudiness (04/01/20)\")\n",
    "plt.ylabel(\"Cloudiness (%)\")\n",
    "plt.xlabel(\"Latitude\")\n",
    "plt.grid(True)\n",
    "plt.scatter(weather_city_df['Lat'], weather_city_df['Cloudiness'], marker = \"o\", s=35, edgecolors= 'black')\n",
    "\n",
    "\n",
    "plt.show()\n",
    "plt.savefig(\"/Users/Vaidehee/Desktop/nu-chi-data-pt-02-2021-u-c-master 3/02-Homework/06-Python-APIs/Instructions/output_data/latvscloudiness.png\")\n",
    "\n",
    "\n",
    "#data isn't displaying"
   ]
  },
  {
   "cell_type": "markdown",
   "metadata": {},
   "source": [
    "## Latitude vs. Wind Speed Plot"
   ]
  },
  {
   "cell_type": "code",
   "execution_count": 17,
   "metadata": {},
   "outputs": [
    {
     "data": {
      "image/png": "[encoded data removed]",
      "text/plain": [
       "<Figure size 432x288 with 1 Axes>"
      ]
     },
     "metadata": {
      "needs_background": "light"
     },
     "output_type": "display_data"
    },
    {
     "data": {
      "text/plain": [
       "<Figure size 432x288 with 0 Axes>"
      ]
     },
     "metadata": {},
     "output_type": "display_data"
    }
   ],
   "source": [
    "#format plot\n",
    "plt.title(\"City Latitude vs. Wind Speed (04/01/20)\")\n",
    "plt.ylabel(\"Wind Speed (mph)\")\n",
    "plt.xlabel(\"Latitude\")\n",
    "plt.grid(True)\n",
    "plt.scatter(weather_city_df['Lat'], weather_city_df['Wind Speed'], marker = \"o\", s=35, edgecolors= 'black')\n",
    "\n",
    "\n",
    "plt.show()\n",
    "plt.savefig(\"/Users/Vaidehee/Desktop/nu-chi-data-pt-02-2021-u-c-master 3/02-Homework/06-Python-APIs/Instructions/output_data/latvswindspeed.png\")\n",
    "\n",
    "\n",
    "#data isn't displaying"
   ]
  },
  {
   "cell_type": "markdown",
   "metadata": {},
   "source": [
    "## Linear Regression"
   ]
  },
  {
   "cell_type": "code",
   "execution_count": 26,
   "metadata": {},
   "outputs": [],
   "source": [
    "northern_hemi= weather_city_df.loc[weather_city_df['Lat']>=0]\n",
    "southern_hemi= weather_city_df.loc[weather_city_df['Lat']<=0]"
   ]
  },
  {
   "cell_type": "markdown",
   "metadata": {},
   "source": [
    "####  Northern Hemisphere - Max Temp vs. Latitude Linear Regression"
   ]
  },
  {
   "cell_type": "code",
   "execution_count": 31,
   "metadata": {},
   "outputs": [
    {
     "ename": "ValueError",
     "evalue": "Inputs must not be empty.",
     "output_type": "error",
     "traceback": [
      "\u001b[0;31m---------------------------------------------------------------------------\u001b[0m",
      "\u001b[0;31mValueError\u001b[0m                                Traceback (most recent call last)",
      "\u001b[0;32m<ipython-input-31-968fb437252c>\u001b[0m in \u001b[0;36m<module>\u001b[0;34m\u001b[0m\n\u001b[1;32m      7\u001b[0m \u001b[0;34m\u001b[0m\u001b[0m\n\u001b[1;32m      8\u001b[0m \u001b[0;31m#use lib to calculate values\u001b[0m\u001b[0;34m\u001b[0m\u001b[0;34m\u001b[0m\u001b[0;34m\u001b[0m\u001b[0m\n\u001b[0;32m----> 9\u001b[0;31m \u001b[0;34m(\u001b[0m\u001b[0mslope\u001b[0m\u001b[0;34m,\u001b[0m \u001b[0mintercept\u001b[0m\u001b[0;34m,\u001b[0m \u001b[0mrvalue\u001b[0m\u001b[0;34m,\u001b[0m \u001b[0mpvalue\u001b[0m\u001b[0;34m,\u001b[0m \u001b[0mstderr\u001b[0m\u001b[0;34m)\u001b[0m \u001b[0;34m=\u001b[0m \u001b[0mlinregress\u001b[0m\u001b[0;34m(\u001b[0m\u001b[0mx_axis\u001b[0m\u001b[0;34m,\u001b[0m \u001b[0my_axis\u001b[0m\u001b[0;34m)\u001b[0m\u001b[0;34m\u001b[0m\u001b[0;34m\u001b[0m\u001b[0m\n\u001b[0m\u001b[1;32m     10\u001b[0m \u001b[0mfit\u001b[0m \u001b[0;34m=\u001b[0m \u001b[0mslope\u001b[0m \u001b[0;34m+\u001b[0m \u001b[0mx_axis\u001b[0m \u001b[0;34m+\u001b[0m \u001b[0mintercept\u001b[0m\u001b[0;34m\u001b[0m\u001b[0;34m\u001b[0m\u001b[0m\n\u001b[1;32m     11\u001b[0m \u001b[0;31m#print r value\u001b[0m\u001b[0;34m\u001b[0m\u001b[0;34m\u001b[0m\u001b[0;34m\u001b[0m\u001b[0m\n",
      "\u001b[0;32m~/anaconda3/lib/python3.8/site-packages/scipy/stats/_stats_mstats_common.py\u001b[0m in \u001b[0;36mlinregress\u001b[0;34m(x, y)\u001b[0m\n\u001b[1;32m    107\u001b[0m \u001b[0;34m\u001b[0m\u001b[0m\n\u001b[1;32m    108\u001b[0m     \u001b[0;32mif\u001b[0m \u001b[0mx\u001b[0m\u001b[0;34m.\u001b[0m\u001b[0msize\u001b[0m \u001b[0;34m==\u001b[0m \u001b[0;36m0\u001b[0m \u001b[0;32mor\u001b[0m \u001b[0my\u001b[0m\u001b[0;34m.\u001b[0m\u001b[0msize\u001b[0m \u001b[0;34m==\u001b[0m \u001b[0;36m0\u001b[0m\u001b[0;34m:\u001b[0m\u001b[0;34m\u001b[0m\u001b[0;34m\u001b[0m\u001b[0m\n\u001b[0;32m--> 109\u001b[0;31m         \u001b[0;32mraise\u001b[0m \u001b[0mValueError\u001b[0m\u001b[0;34m(\u001b[0m\u001b[0;34m\"Inputs must not be empty.\"\u001b[0m\u001b[0;34m)\u001b[0m\u001b[0;34m\u001b[0m\u001b[0;34m\u001b[0m\u001b[0m\n\u001b[0m\u001b[1;32m    110\u001b[0m \u001b[0;34m\u001b[0m\u001b[0m\n\u001b[1;32m    111\u001b[0m     \u001b[0mn\u001b[0m \u001b[0;34m=\u001b[0m \u001b[0mlen\u001b[0m\u001b[0;34m(\u001b[0m\u001b[0mx\u001b[0m\u001b[0;34m)\u001b[0m\u001b[0;34m\u001b[0m\u001b[0;34m\u001b[0m\u001b[0m\n",
      "\u001b[0;31mValueError\u001b[0m: Inputs must not be empty."
     ]
    },
    {
     "data": {
      "image/png": "[encoded data removed]",
      "text/plain": [
       "<Figure size 432x288 with 1 Axes>"
      ]
     },
     "metadata": {
      "needs_background": "light"
     },
     "output_type": "display_data"
    }
   ],
   "source": [
    "#plt labels\n",
    "plt.ylabel(\"Max Temp\")\n",
    "plt.xlabel(\"Latitude\")\n",
    "#axis data\n",
    "x_axis = northern_hemi['Lat']\n",
    "y_axis = northern_hemi['Max Temp']\n",
    "\n",
    "#use lib to calculate values\n",
    "(slope, intercept, rvalue, pvalue, stderr) = linregress(x_axis, y_axis)\n",
    "fit = slope + x_axis + intercept\n",
    "#print r value\n",
    "print(f\"The r-value is : {rvalue}\")\n",
    "\n",
    "plt.scatter(x_axis, y_axis)\n",
    "plt.plot(x_axis, fit, color = 'r')\n"
   ]
  },
  {
   "cell_type": "markdown",
   "metadata": {},
   "source": [
    "####  Southern Hemisphere - Max Temp vs. Latitude Linear Regression"
   ]
  },
  {
   "cell_type": "code",
   "execution_count": 32,
   "metadata": {},
   "outputs": [
    {
     "ename": "ValueError",
     "evalue": "Inputs must not be empty.",
     "output_type": "error",
     "traceback": [
      "\u001b[0;31m---------------------------------------------------------------------------\u001b[0m",
      "\u001b[0;31mValueError\u001b[0m                                Traceback (most recent call last)",
      "\u001b[0;32m<ipython-input-32-b5fa52284fcf>\u001b[0m in \u001b[0;36m<module>\u001b[0;34m\u001b[0m\n\u001b[1;32m      7\u001b[0m \u001b[0;34m\u001b[0m\u001b[0m\n\u001b[1;32m      8\u001b[0m \u001b[0;31m#use lib to calculate values\u001b[0m\u001b[0;34m\u001b[0m\u001b[0;34m\u001b[0m\u001b[0;34m\u001b[0m\u001b[0m\n\u001b[0;32m----> 9\u001b[0;31m \u001b[0;34m(\u001b[0m\u001b[0mslope\u001b[0m\u001b[0;34m,\u001b[0m \u001b[0mintercept\u001b[0m\u001b[0;34m,\u001b[0m \u001b[0mrvalue\u001b[0m\u001b[0;34m,\u001b[0m \u001b[0mpvalue\u001b[0m\u001b[0;34m,\u001b[0m \u001b[0mstderr\u001b[0m\u001b[0;34m)\u001b[0m \u001b[0;34m=\u001b[0m \u001b[0mlinregress\u001b[0m\u001b[0;34m(\u001b[0m\u001b[0mx_axis\u001b[0m\u001b[0;34m,\u001b[0m \u001b[0my_axis\u001b[0m\u001b[0;34m)\u001b[0m\u001b[0;34m\u001b[0m\u001b[0;34m\u001b[0m\u001b[0m\n\u001b[0m\u001b[1;32m     10\u001b[0m \u001b[0mfit\u001b[0m \u001b[0;34m=\u001b[0m \u001b[0mslope\u001b[0m \u001b[0;34m+\u001b[0m \u001b[0mx_axis\u001b[0m \u001b[0;34m+\u001b[0m \u001b[0mintercept\u001b[0m\u001b[0;34m\u001b[0m\u001b[0;34m\u001b[0m\u001b[0m\n\u001b[1;32m     11\u001b[0m \u001b[0;31m#print r value\u001b[0m\u001b[0;34m\u001b[0m\u001b[0;34m\u001b[0m\u001b[0;34m\u001b[0m\u001b[0m\n",
      "\u001b[0;32m~/anaconda3/lib/python3.8/site-packages/scipy/stats/_stats_mstats_common.py\u001b[0m in \u001b[0;36mlinregress\u001b[0;34m(x, y)\u001b[0m\n\u001b[1;32m    107\u001b[0m \u001b[0;34m\u001b[0m\u001b[0m\n\u001b[1;32m    108\u001b[0m     \u001b[0;32mif\u001b[0m \u001b[0mx\u001b[0m\u001b[0;34m.\u001b[0m\u001b[0msize\u001b[0m \u001b[0;34m==\u001b[0m \u001b[0;36m0\u001b[0m \u001b[0;32mor\u001b[0m \u001b[0my\u001b[0m\u001b[0;34m.\u001b[0m\u001b[0msize\u001b[0m \u001b[0;34m==\u001b[0m \u001b[0;36m0\u001b[0m\u001b[0;34m:\u001b[0m\u001b[0;34m\u001b[0m\u001b[0;34m\u001b[0m\u001b[0m\n\u001b[0;32m--> 109\u001b[0;31m         \u001b[0;32mraise\u001b[0m \u001b[0mValueError\u001b[0m\u001b[0;34m(\u001b[0m\u001b[0;34m\"Inputs must not be empty.\"\u001b[0m\u001b[0;34m)\u001b[0m\u001b[0;34m\u001b[0m\u001b[0;34m\u001b[0m\u001b[0m\n\u001b[0m\u001b[1;32m    110\u001b[0m \u001b[0;34m\u001b[0m\u001b[0m\n\u001b[1;32m    111\u001b[0m     \u001b[0mn\u001b[0m \u001b[0;34m=\u001b[0m \u001b[0mlen\u001b[0m\u001b[0;34m(\u001b[0m\u001b[0mx\u001b[0m\u001b[0;34m)\u001b[0m\u001b[0;34m\u001b[0m\u001b[0;34m\u001b[0m\u001b[0m\n",
      "\u001b[0;31mValueError\u001b[0m: Inputs must not be empty."
     ]
    },
    {
     "data": {
      "image/png": "[encoded data removed]",
      "text/plain": [
       "<Figure size 432x288 with 1 Axes>"
      ]
     },
     "metadata": {
      "needs_background": "light"
     },
     "output_type": "display_data"
    }
   ],
   "source": [
    "#plt labels\n",
    "plt.ylabel(\"Max Temp\")\n",
    "plt.xlabel(\"Latitude\")\n",
    "#axis data\n",
    "x_axis = southern_hemi['Lat']\n",
    "y_axis = southern_hemi['Max Temp']\n",
    "\n",
    "#use lib to calculate values\n",
    "(slope, intercept, rvalue, pvalue, stderr) = linregress(x_axis, y_axis)\n",
    "fit = slope + x_axis + intercept\n",
    "#print r value\n",
    "print(f\"The r-value is : {rvalue}\")\n",
    "\n",
    "plt.scatter(x_axis, y_axis)\n",
    "plt.plot(x_axis, fit, color = 'r')"
   ]
  },
  {
   "cell_type": "markdown",
   "metadata": {},
   "source": [
    "####  Northern Hemisphere - Humidity (%) vs. Latitude Linear Regression"
   ]
  },
  {
   "cell_type": "code",
   "execution_count": 33,
   "metadata": {},
   "outputs": [
    {
     "ename": "ValueError",
     "evalue": "Inputs must not be empty.",
     "output_type": "error",
     "traceback": [
      "\u001b[0;31m---------------------------------------------------------------------------\u001b[0m",
      "\u001b[0;31mValueError\u001b[0m                                Traceback (most recent call last)",
      "\u001b[0;32m<ipython-input-33-6a70621cf02f>\u001b[0m in \u001b[0;36m<module>\u001b[0;34m\u001b[0m\n\u001b[1;32m      7\u001b[0m \u001b[0;34m\u001b[0m\u001b[0m\n\u001b[1;32m      8\u001b[0m \u001b[0;31m#use lib to calculate values\u001b[0m\u001b[0;34m\u001b[0m\u001b[0;34m\u001b[0m\u001b[0;34m\u001b[0m\u001b[0m\n\u001b[0;32m----> 9\u001b[0;31m \u001b[0;34m(\u001b[0m\u001b[0mslope\u001b[0m\u001b[0;34m,\u001b[0m \u001b[0mintercept\u001b[0m\u001b[0;34m,\u001b[0m \u001b[0mrvalue\u001b[0m\u001b[0;34m,\u001b[0m \u001b[0mpvalue\u001b[0m\u001b[0;34m,\u001b[0m \u001b[0mstderr\u001b[0m\u001b[0;34m)\u001b[0m \u001b[0;34m=\u001b[0m \u001b[0mlinregress\u001b[0m\u001b[0;34m(\u001b[0m\u001b[0mx_axis\u001b[0m\u001b[0;34m,\u001b[0m \u001b[0my_axis\u001b[0m\u001b[0;34m)\u001b[0m\u001b[0;34m\u001b[0m\u001b[0;34m\u001b[0m\u001b[0m\n\u001b[0m\u001b[1;32m     10\u001b[0m \u001b[0mfit\u001b[0m \u001b[0;34m=\u001b[0m \u001b[0mslope\u001b[0m \u001b[0;34m+\u001b[0m \u001b[0mx_axis\u001b[0m \u001b[0;34m+\u001b[0m \u001b[0mintercept\u001b[0m\u001b[0;34m\u001b[0m\u001b[0;34m\u001b[0m\u001b[0m\n\u001b[1;32m     11\u001b[0m \u001b[0;31m#print r value\u001b[0m\u001b[0;34m\u001b[0m\u001b[0;34m\u001b[0m\u001b[0;34m\u001b[0m\u001b[0m\n",
      "\u001b[0;32m~/anaconda3/lib/python3.8/site-packages/scipy/stats/_stats_mstats_common.py\u001b[0m in \u001b[0;36mlinregress\u001b[0;34m(x, y)\u001b[0m\n\u001b[1;32m    107\u001b[0m \u001b[0;34m\u001b[0m\u001b[0m\n\u001b[1;32m    108\u001b[0m     \u001b[0;32mif\u001b[0m \u001b[0mx\u001b[0m\u001b[0;34m.\u001b[0m\u001b[0msize\u001b[0m \u001b[0;34m==\u001b[0m \u001b[0;36m0\u001b[0m \u001b[0;32mor\u001b[0m \u001b[0my\u001b[0m\u001b[0;34m.\u001b[0m\u001b[0msize\u001b[0m \u001b[0;34m==\u001b[0m \u001b[0;36m0\u001b[0m\u001b[0;34m:\u001b[0m\u001b[0;34m\u001b[0m\u001b[0;34m\u001b[0m\u001b[0m\n\u001b[0;32m--> 109\u001b[0;31m         \u001b[0;32mraise\u001b[0m \u001b[0mValueError\u001b[0m\u001b[0;34m(\u001b[0m\u001b[0;34m\"Inputs must not be empty.\"\u001b[0m\u001b[0;34m)\u001b[0m\u001b[0;34m\u001b[0m\u001b[0;34m\u001b[0m\u001b[0m\n\u001b[0m\u001b[1;32m    110\u001b[0m \u001b[0;34m\u001b[0m\u001b[0m\n\u001b[1;32m    111\u001b[0m     \u001b[0mn\u001b[0m \u001b[0;34m=\u001b[0m \u001b[0mlen\u001b[0m\u001b[0;34m(\u001b[0m\u001b[0mx\u001b[0m\u001b[0;34m)\u001b[0m\u001b[0;34m\u001b[0m\u001b[0;34m\u001b[0m\u001b[0m\n",
      "\u001b[0;31mValueError\u001b[0m: Inputs must not be empty."
     ]
    },
    {
     "data": {
      "image/png": "[encoded data removed]",
      "text/plain": [
       "<Figure size 432x288 with 1 Axes>"
      ]
     },
     "metadata": {
      "needs_background": "light"
     },
     "output_type": "display_data"
    }
   ],
   "source": [
    "#plt labels\n",
    "plt.ylabel(\"Max Temp\")\n",
    "plt.xlabel(\"Humidity\")\n",
    "#axis data\n",
    "x_axis = northern_hemi['Lat']\n",
    "y_axis = northern_hemi['Humidity']\n",
    "\n",
    "#use lib to calculate values\n",
    "(slope, intercept, rvalue, pvalue, stderr) = linregress(x_axis, y_axis)\n",
    "fit = slope + x_axis + intercept\n",
    "#print r value\n",
    "print(f\"The r-value is : {rvalue}\")\n",
    "\n",
    "plt.scatter(x_axis, y_axis)\n",
    "plt.plot(x_axis, fit, color = 'r')\n",
    "\n"
   ]
  },
  {
   "cell_type": "markdown",
   "metadata": {},
   "source": [
    "####  Southern Hemisphere - Humidity (%) vs. Latitude Linear Regression"
   ]
  },
  {
   "cell_type": "code",
   "execution_count": 34,
   "metadata": {},
   "outputs": [
    {
     "ename": "ValueError",
     "evalue": "Inputs must not be empty.",
     "output_type": "error",
     "traceback": [
      "\u001b[0;31m---------------------------------------------------------------------------\u001b[0m",
      "\u001b[0;31mValueError\u001b[0m                                Traceback (most recent call last)",
      "\u001b[0;32m<ipython-input-34-e469a5b2fe7e>\u001b[0m in \u001b[0;36m<module>\u001b[0;34m\u001b[0m\n\u001b[1;32m      7\u001b[0m \u001b[0;34m\u001b[0m\u001b[0m\n\u001b[1;32m      8\u001b[0m \u001b[0;31m#use lib to calculate values\u001b[0m\u001b[0;34m\u001b[0m\u001b[0;34m\u001b[0m\u001b[0;34m\u001b[0m\u001b[0m\n\u001b[0;32m----> 9\u001b[0;31m \u001b[0;34m(\u001b[0m\u001b[0mslope\u001b[0m\u001b[0;34m,\u001b[0m \u001b[0mintercept\u001b[0m\u001b[0;34m,\u001b[0m \u001b[0mrvalue\u001b[0m\u001b[0;34m,\u001b[0m \u001b[0mpvalue\u001b[0m\u001b[0;34m,\u001b[0m \u001b[0mstderr\u001b[0m\u001b[0;34m)\u001b[0m \u001b[0;34m=\u001b[0m \u001b[0mlinregress\u001b[0m\u001b[0;34m(\u001b[0m\u001b[0mx_axis\u001b[0m\u001b[0;34m,\u001b[0m \u001b[0my_axis\u001b[0m\u001b[0;34m)\u001b[0m\u001b[0;34m\u001b[0m\u001b[0;34m\u001b[0m\u001b[0m\n\u001b[0m\u001b[1;32m     10\u001b[0m \u001b[0mfit\u001b[0m \u001b[0;34m=\u001b[0m \u001b[0mslope\u001b[0m \u001b[0;34m+\u001b[0m \u001b[0mx_axis\u001b[0m \u001b[0;34m+\u001b[0m \u001b[0mintercept\u001b[0m\u001b[0;34m\u001b[0m\u001b[0;34m\u001b[0m\u001b[0m\n\u001b[1;32m     11\u001b[0m \u001b[0;31m#print r value\u001b[0m\u001b[0;34m\u001b[0m\u001b[0;34m\u001b[0m\u001b[0;34m\u001b[0m\u001b[0m\n",
      "\u001b[0;32m~/anaconda3/lib/python3.8/site-packages/scipy/stats/_stats_mstats_common.py\u001b[0m in \u001b[0;36mlinregress\u001b[0;34m(x, y)\u001b[0m\n\u001b[1;32m    107\u001b[0m \u001b[0;34m\u001b[0m\u001b[0m\n\u001b[1;32m    108\u001b[0m     \u001b[0;32mif\u001b[0m \u001b[0mx\u001b[0m\u001b[0;34m.\u001b[0m\u001b[0msize\u001b[0m \u001b[0;34m==\u001b[0m \u001b[0;36m0\u001b[0m \u001b[0;32mor\u001b[0m \u001b[0my\u001b[0m\u001b[0;34m.\u001b[0m\u001b[0msize\u001b[0m \u001b[0;34m==\u001b[0m \u001b[0;36m0\u001b[0m\u001b[0;34m:\u001b[0m\u001b[0;34m\u001b[0m\u001b[0;34m\u001b[0m\u001b[0m\n\u001b[0;32m--> 109\u001b[0;31m         \u001b[0;32mraise\u001b[0m \u001b[0mValueError\u001b[0m\u001b[0;34m(\u001b[0m\u001b[0;34m\"Inputs must not be empty.\"\u001b[0m\u001b[0;34m)\u001b[0m\u001b[0;34m\u001b[0m\u001b[0;34m\u001b[0m\u001b[0m\n\u001b[0m\u001b[1;32m    110\u001b[0m \u001b[0;34m\u001b[0m\u001b[0m\n\u001b[1;32m    111\u001b[0m     \u001b[0mn\u001b[0m \u001b[0;34m=\u001b[0m \u001b[0mlen\u001b[0m\u001b[0;34m(\u001b[0m\u001b[0mx\u001b[0m\u001b[0;34m)\u001b[0m\u001b[0;34m\u001b[0m\u001b[0;34m\u001b[0m\u001b[0m\n",
      "\u001b[0;31mValueError\u001b[0m: Inputs must not be empty."
     ]
    },
    {
     "data": {
      "image/png": "[encoded data removed]",
      "text/plain": [
       "<Figure size 432x288 with 1 Axes>"
      ]
     },
     "metadata": {
      "needs_background": "light"
     },
     "output_type": "display_data"
    }
   ],
   "source": [
    "#plt labels\n",
    "plt.ylabel(\"Max Temp\")\n",
    "plt.xlabel(\"Humidity\")\n",
    "#axis data\n",
    "x_axis = southern_hemi['Lat']\n",
    "y_axis = southern_hemi['Humidity']\n",
    "\n",
    "#use lib to calculate values\n",
    "(slope, intercept, rvalue, pvalue, stderr) = linregress(x_axis, y_axis)\n",
    "fit = slope + x_axis + intercept\n",
    "#print r value\n",
    "print(f\"The r-value is : {rvalue}\")\n",
    "\n",
    "plt.scatter(x_axis, y_axis)\n",
    "plt.plot(x_axis, fit, color = 'r')\n",
    "\n",
    "\n"
   ]
  },
  {
   "cell_type": "markdown",
   "metadata": {},
   "source": [
    "####  Northern Hemisphere - Cloudiness (%) vs. Latitude Linear Regression"
   ]
  },
  {
   "cell_type": "code",
   "execution_count": 29,
   "metadata": {},
   "outputs": [
    {
     "name": "stdout",
     "output_type": "stream",
     "text": [
      "The r-value is: 0.0020898727664228514\n"
     ]
    },
    {
     "data": {
      "image/png": "[encoded data removed]",
      "text/plain": [
       "<Figure size 432x288 with 1 Axes>"
      ]
     },
     "metadata": {
      "needs_background": "light"
     },
     "output_type": "display_data"
    }
   ],
   "source": [
    "#plt labels\n",
    "plt.ylabel(\"Max Temp\")\n",
    "plt.xlabel(\"Cloudiness\")\n",
    "#axis data\n",
    "x_axis = northern_hemi['Lat']\n",
    "y_axis = northern_hemi['Cloudiness']\n",
    "\n",
    "#use lib to calculate values\n",
    "(slope, intercept, rvalue, pvalue, stderr) = linregress(x_axis, y_axis)\n",
    "fit = slope + x_axis + intercept\n",
    "#print r value\n",
    "print(f\"The r-value is : {rvalue}\")\n",
    "\n",
    "plt.scatter(x_axis, y_axis)\n",
    "plt.plot(x_axis, fit, color = 'r')\n",
    "\n",
    "\n"
   ]
  },
  {
   "cell_type": "markdown",
   "metadata": {},
   "source": [
    "####  Southern Hemisphere - Cloudiness (%) vs. Latitude Linear Regression"
   ]
  },
  {
   "cell_type": "code",
   "execution_count": 35,
   "metadata": {},
   "outputs": [
    {
     "ename": "ValueError",
     "evalue": "Inputs must not be empty.",
     "output_type": "error",
     "traceback": [
      "\u001b[0;31m---------------------------------------------------------------------------\u001b[0m",
      "\u001b[0;31mValueError\u001b[0m                                Traceback (most recent call last)",
      "\u001b[0;32m<ipython-input-35-d36f0dacc6ac>\u001b[0m in \u001b[0;36m<module>\u001b[0;34m\u001b[0m\n\u001b[1;32m      7\u001b[0m \u001b[0;34m\u001b[0m\u001b[0m\n\u001b[1;32m      8\u001b[0m \u001b[0;31m#use lib to calculate values\u001b[0m\u001b[0;34m\u001b[0m\u001b[0;34m\u001b[0m\u001b[0;34m\u001b[0m\u001b[0m\n\u001b[0;32m----> 9\u001b[0;31m \u001b[0;34m(\u001b[0m\u001b[0mslope\u001b[0m\u001b[0;34m,\u001b[0m \u001b[0mintercept\u001b[0m\u001b[0;34m,\u001b[0m \u001b[0mrvalue\u001b[0m\u001b[0;34m,\u001b[0m \u001b[0mpvalue\u001b[0m\u001b[0;34m,\u001b[0m \u001b[0mstderr\u001b[0m\u001b[0;34m)\u001b[0m \u001b[0;34m=\u001b[0m \u001b[0mlinregress\u001b[0m\u001b[0;34m(\u001b[0m\u001b[0mx_axis\u001b[0m\u001b[0;34m,\u001b[0m \u001b[0my_axis\u001b[0m\u001b[0;34m)\u001b[0m\u001b[0;34m\u001b[0m\u001b[0;34m\u001b[0m\u001b[0m\n\u001b[0m\u001b[1;32m     10\u001b[0m \u001b[0mfit\u001b[0m \u001b[0;34m=\u001b[0m \u001b[0mslope\u001b[0m \u001b[0;34m+\u001b[0m \u001b[0mx_axis\u001b[0m \u001b[0;34m+\u001b[0m \u001b[0mintercept\u001b[0m\u001b[0;34m\u001b[0m\u001b[0;34m\u001b[0m\u001b[0m\n\u001b[1;32m     11\u001b[0m \u001b[0;31m#print r value\u001b[0m\u001b[0;34m\u001b[0m\u001b[0;34m\u001b[0m\u001b[0;34m\u001b[0m\u001b[0m\n",
      "\u001b[0;32m~/anaconda3/lib/python3.8/site-packages/scipy/stats/_stats_mstats_common.py\u001b[0m in \u001b[0;36mlinregress\u001b[0;34m(x, y)\u001b[0m\n\u001b[1;32m    107\u001b[0m \u001b[0;34m\u001b[0m\u001b[0m\n\u001b[1;32m    108\u001b[0m     \u001b[0;32mif\u001b[0m \u001b[0mx\u001b[0m\u001b[0;34m.\u001b[0m\u001b[0msize\u001b[0m \u001b[0;34m==\u001b[0m \u001b[0;36m0\u001b[0m \u001b[0;32mor\u001b[0m \u001b[0my\u001b[0m\u001b[0;34m.\u001b[0m\u001b[0msize\u001b[0m \u001b[0;34m==\u001b[0m \u001b[0;36m0\u001b[0m\u001b[0;34m:\u001b[0m\u001b[0;34m\u001b[0m\u001b[0;34m\u001b[0m\u001b[0m\n\u001b[0;32m--> 109\u001b[0;31m         \u001b[0;32mraise\u001b[0m \u001b[0mValueError\u001b[0m\u001b[0;34m(\u001b[0m\u001b[0;34m\"Inputs must not be empty.\"\u001b[0m\u001b[0;34m)\u001b[0m\u001b[0;34m\u001b[0m\u001b[0;34m\u001b[0m\u001b[0m\n\u001b[0m\u001b[1;32m    110\u001b[0m \u001b[0;34m\u001b[0m\u001b[0m\n\u001b[1;32m    111\u001b[0m     \u001b[0mn\u001b[0m \u001b[0;34m=\u001b[0m \u001b[0mlen\u001b[0m\u001b[0;34m(\u001b[0m\u001b[0mx\u001b[0m\u001b[0;34m)\u001b[0m\u001b[0;34m\u001b[0m\u001b[0;34m\u001b[0m\u001b[0m\n",
      "\u001b[0;31mValueError\u001b[0m: Inputs must not be empty."
     ]
    },
    {
     "data": {
      "image/png": "[encoded data removed]",
      "text/plain": [
       "<Figure size 432x288 with 1 Axes>"
      ]
     },
     "metadata": {
      "needs_background": "light"
     },
     "output_type": "display_data"
    }
   ],
   "source": [
    "#plt labels\n",
    "plt.ylabel(\"Max Temp\")\n",
    "plt.xlabel(\"Cloudiness\")\n",
    "#axis data\n",
    "x_axis = southern_hemi['Lat']\n",
    "y_axis = southern_hemi['Cloudiness']\n",
    "\n",
    "#use lib to calculate values\n",
    "(slope, intercept, rvalue, pvalue, stderr) = linregress(x_axis, y_axis)\n",
    "fit = slope + x_axis + intercept\n",
    "#print r value\n",
    "print(f\"The r-value is : {rvalue}\")\n",
    "\n",
    "plt.scatter(x_axis, y_axis)\n",
    "plt.plot(x_axis, fit, color = 'r')\n",
    "\n",
    "\n"
   ]
  },
  {
   "cell_type": "markdown",
   "metadata": {},
   "source": [
    "####  Northern Hemisphere - Wind Speed (mph) vs. Latitude Linear Regression"
   ]
  },
  {
   "cell_type": "code",
   "execution_count": 36,
   "metadata": {},
   "outputs": [
    {
     "ename": "ValueError",
     "evalue": "Inputs must not be empty.",
     "output_type": "error",
     "traceback": [
      "\u001b[0;31m---------------------------------------------------------------------------\u001b[0m",
      "\u001b[0;31mValueError\u001b[0m                                Traceback (most recent call last)",
      "\u001b[0;32m<ipython-input-36-10cb335160df>\u001b[0m in \u001b[0;36m<module>\u001b[0;34m\u001b[0m\n\u001b[1;32m      7\u001b[0m \u001b[0;34m\u001b[0m\u001b[0m\n\u001b[1;32m      8\u001b[0m \u001b[0;31m#use lib to calculate values\u001b[0m\u001b[0;34m\u001b[0m\u001b[0;34m\u001b[0m\u001b[0;34m\u001b[0m\u001b[0m\n\u001b[0;32m----> 9\u001b[0;31m \u001b[0;34m(\u001b[0m\u001b[0mslope\u001b[0m\u001b[0;34m,\u001b[0m \u001b[0mintercept\u001b[0m\u001b[0;34m,\u001b[0m \u001b[0mrvalue\u001b[0m\u001b[0;34m,\u001b[0m \u001b[0mpvalue\u001b[0m\u001b[0;34m,\u001b[0m \u001b[0mstderr\u001b[0m\u001b[0;34m)\u001b[0m \u001b[0;34m=\u001b[0m \u001b[0mlinregress\u001b[0m\u001b[0;34m(\u001b[0m\u001b[0mx_axis\u001b[0m\u001b[0;34m,\u001b[0m \u001b[0my_axis\u001b[0m\u001b[0;34m)\u001b[0m\u001b[0;34m\u001b[0m\u001b[0;34m\u001b[0m\u001b[0m\n\u001b[0m\u001b[1;32m     10\u001b[0m \u001b[0mfit\u001b[0m \u001b[0;34m=\u001b[0m \u001b[0mslope\u001b[0m \u001b[0;34m+\u001b[0m \u001b[0mx_axis\u001b[0m \u001b[0;34m+\u001b[0m \u001b[0mintercept\u001b[0m\u001b[0;34m\u001b[0m\u001b[0;34m\u001b[0m\u001b[0m\n\u001b[1;32m     11\u001b[0m \u001b[0;31m#print r value\u001b[0m\u001b[0;34m\u001b[0m\u001b[0;34m\u001b[0m\u001b[0;34m\u001b[0m\u001b[0m\n",
      "\u001b[0;32m~/anaconda3/lib/python3.8/site-packages/scipy/stats/_stats_mstats_common.py\u001b[0m in \u001b[0;36mlinregress\u001b[0;34m(x, y)\u001b[0m\n\u001b[1;32m    107\u001b[0m \u001b[0;34m\u001b[0m\u001b[0m\n\u001b[1;32m    108\u001b[0m     \u001b[0;32mif\u001b[0m \u001b[0mx\u001b[0m\u001b[0;34m.\u001b[0m\u001b[0msize\u001b[0m \u001b[0;34m==\u001b[0m \u001b[0;36m0\u001b[0m \u001b[0;32mor\u001b[0m \u001b[0my\u001b[0m\u001b[0;34m.\u001b[0m\u001b[0msize\u001b[0m \u001b[0;34m==\u001b[0m \u001b[0;36m0\u001b[0m\u001b[0;34m:\u001b[0m\u001b[0;34m\u001b[0m\u001b[0;34m\u001b[0m\u001b[0m\n\u001b[0;32m--> 109\u001b[0;31m         \u001b[0;32mraise\u001b[0m \u001b[0mValueError\u001b[0m\u001b[0;34m(\u001b[0m\u001b[0;34m\"Inputs must not be empty.\"\u001b[0m\u001b[0;34m)\u001b[0m\u001b[0;34m\u001b[0m\u001b[0;34m\u001b[0m\u001b[0m\n\u001b[0m\u001b[1;32m    110\u001b[0m \u001b[0;34m\u001b[0m\u001b[0m\n\u001b[1;32m    111\u001b[0m     \u001b[0mn\u001b[0m \u001b[0;34m=\u001b[0m \u001b[0mlen\u001b[0m\u001b[0;34m(\u001b[0m\u001b[0mx\u001b[0m\u001b[0;34m)\u001b[0m\u001b[0;34m\u001b[0m\u001b[0;34m\u001b[0m\u001b[0m\n",
      "\u001b[0;31mValueError\u001b[0m: Inputs must not be empty."
     ]
    },
    {
     "data": {
      "image/png": "[encoded data removed]",
      "text/plain": [
       "<Figure size 432x288 with 1 Axes>"
      ]
     },
     "metadata": {
      "needs_background": "light"
     },
     "output_type": "display_data"
    }
   ],
   "source": [
    "#plt labels\n",
    "plt.ylabel(\"Max Temp\")\n",
    "plt.xlabel(\"Wind Speed\")\n",
    "#axis data\n",
    "x_axis = northern_hemi['Lat']\n",
    "y_axis = northern_hemi['Wind Speed']\n",
    "\n",
    "#use lib to calculate values\n",
    "(slope, intercept, rvalue, pvalue, stderr) = linregress(x_axis, y_axis)\n",
    "fit = slope + x_axis + intercept\n",
    "#print r value\n",
    "print(f\"The r-value is : {rvalue}\")\n",
    "\n",
    "plt.scatter(x_axis, y_axis)\n",
    "plt.plot(x_axis, fit, color = 'r')\n",
    "\n",
    "\n"
   ]
  },
  {
   "cell_type": "markdown",
   "metadata": {},
   "source": [
    "####  Southern Hemisphere - Wind Speed (mph) vs. Latitude Linear Regression"
   ]
  },
  {
   "cell_type": "code",
   "execution_count": 37,
   "metadata": {},
   "outputs": [
    {
     "ename": "ValueError",
     "evalue": "Inputs must not be empty.",
     "output_type": "error",
     "traceback": [
      "\u001b[0;31m---------------------------------------------------------------------------\u001b[0m",
      "\u001b[0;31mValueError\u001b[0m                                Traceback (most recent call last)",
      "\u001b[0;32m<ipython-input-37-66078c1092bd>\u001b[0m in \u001b[0;36m<module>\u001b[0;34m\u001b[0m\n\u001b[1;32m      7\u001b[0m \u001b[0;34m\u001b[0m\u001b[0m\n\u001b[1;32m      8\u001b[0m \u001b[0;31m#use lib to calculate values\u001b[0m\u001b[0;34m\u001b[0m\u001b[0;34m\u001b[0m\u001b[0;34m\u001b[0m\u001b[0m\n\u001b[0;32m----> 9\u001b[0;31m \u001b[0;34m(\u001b[0m\u001b[0mslope\u001b[0m\u001b[0;34m,\u001b[0m \u001b[0mintercept\u001b[0m\u001b[0;34m,\u001b[0m \u001b[0mrvalue\u001b[0m\u001b[0;34m,\u001b[0m \u001b[0mpvalue\u001b[0m\u001b[0;34m,\u001b[0m \u001b[0mstderr\u001b[0m\u001b[0;34m)\u001b[0m \u001b[0;34m=\u001b[0m \u001b[0mlinregress\u001b[0m\u001b[0;34m(\u001b[0m\u001b[0mx_axis\u001b[0m\u001b[0;34m,\u001b[0m \u001b[0my_axis\u001b[0m\u001b[0;34m)\u001b[0m\u001b[0;34m\u001b[0m\u001b[0;34m\u001b[0m\u001b[0m\n\u001b[0m\u001b[1;32m     10\u001b[0m \u001b[0mfit\u001b[0m \u001b[0;34m=\u001b[0m \u001b[0mslope\u001b[0m \u001b[0;34m+\u001b[0m \u001b[0mx_axis\u001b[0m \u001b[0;34m+\u001b[0m \u001b[0mintercept\u001b[0m\u001b[0;34m\u001b[0m\u001b[0;34m\u001b[0m\u001b[0m\n\u001b[1;32m     11\u001b[0m \u001b[0;31m#print r value\u001b[0m\u001b[0;34m\u001b[0m\u001b[0;34m\u001b[0m\u001b[0;34m\u001b[0m\u001b[0m\n",
      "\u001b[0;32m~/anaconda3/lib/python3.8/site-packages/scipy/stats/_stats_mstats_common.py\u001b[0m in \u001b[0;36mlinregress\u001b[0;34m(x, y)\u001b[0m\n\u001b[1;32m    107\u001b[0m \u001b[0;34m\u001b[0m\u001b[0m\n\u001b[1;32m    108\u001b[0m     \u001b[0;32mif\u001b[0m \u001b[0mx\u001b[0m\u001b[0;34m.\u001b[0m\u001b[0msize\u001b[0m \u001b[0;34m==\u001b[0m \u001b[0;36m0\u001b[0m \u001b[0;32mor\u001b[0m \u001b[0my\u001b[0m\u001b[0;34m.\u001b[0m\u001b[0msize\u001b[0m \u001b[0;34m==\u001b[0m \u001b[0;36m0\u001b[0m\u001b[0;34m:\u001b[0m\u001b[0;34m\u001b[0m\u001b[0;34m\u001b[0m\u001b[0m\n\u001b[0;32m--> 109\u001b[0;31m         \u001b[0;32mraise\u001b[0m \u001b[0mValueError\u001b[0m\u001b[0;34m(\u001b[0m\u001b[0;34m\"Inputs must not be empty.\"\u001b[0m\u001b[0;34m)\u001b[0m\u001b[0;34m\u001b[0m\u001b[0;34m\u001b[0m\u001b[0m\n\u001b[0m\u001b[1;32m    110\u001b[0m \u001b[0;34m\u001b[0m\u001b[0m\n\u001b[1;32m    111\u001b[0m     \u001b[0mn\u001b[0m \u001b[0;34m=\u001b[0m \u001b[0mlen\u001b[0m\u001b[0;34m(\u001b[0m\u001b[0mx\u001b[0m\u001b[0;34m)\u001b[0m\u001b[0;34m\u001b[0m\u001b[0;34m\u001b[0m\u001b[0m\n",
      "\u001b[0;31mValueError\u001b[0m: Inputs must not be empty."
     ]
    },
    {
     "data": {
      "image/png": "[encoded data removed]",
      "text/plain": [
       "<Figure size 432x288 with 1 Axes>"
      ]
     },
     "metadata": {
      "needs_background": "light"
     },
     "output_type": "display_data"
    }
   ],
   "source": [
    "#plt labels\n",
    "plt.ylabel(\"Max Temp\")\n",
    "plt.xlabel(\"Wind Speed\")\n",
    "#axis data\n",
    "x_axis = southern_hemi['Lat']\n",
    "y_axis = southern_hemi['Wind Speed']\n",
    "\n",
    "#use lib to calculate values\n",
    "(slope, intercept, rvalue, pvalue, stderr) = linregress(x_axis, y_axis)\n",
    "fit = slope + x_axis + intercept\n",
    "#print r value\n",
    "print(f\"The r-value is : {rvalue}\")\n",
    "\n",
    "plt.scatter(x_axis, y_axis)\n",
    "plt.plot(x_axis, fit, color = 'r')\n",
    "\n",
    "\n"
   ]
  },
  {
   "cell_type": "code",
   "execution_count": null,
   "metadata": {},
   "outputs": [],
   "source": []
  }
 ],
 "metadata": {
  "anaconda-cloud": {},
  "kernel_info": {
   "name": "python3"
  },
  "kernelspec": {
   "display_name": "Python 3",
   "language": "python",
   "name": "python3"
  },
  "language_info": {
   "codemirror_mode": {
    "name": "ipython",
    "version": 3
   },
   "file_extension": ".py",
   "mimetype": "text/x-python",
   "name": "python",
   "nbconvert_exporter": "python",
   "pygments_lexer": "ipython3",
   "version": "3.8.5"
  },
  "latex_envs": {
   "LaTeX_envs_menu_present": true,
   "autoclose": false,
   "autocomplete": true,
   "bibliofile": "biblio.bib",
   "cite_by": "apalike",
   "current_citInitial": 1,
   "eqLabelWithNumbers": true,
   "eqNumInitial": 1,
   "hotkeys": {
    "equation": "Ctrl-E",
    "itemize": "Ctrl-I"
   },
   "labels_anchors": false,
   "latex_user_defs": false,
   "report_style_numbering": false,
   "user_envs_cfg": false
  },
  "nteract": {
   "version": "0.12.3"
  }
 },
 "nbformat": 4,
 "nbformat_minor": 4
}
